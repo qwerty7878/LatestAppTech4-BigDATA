{
  "nbformat": 4,
  "nbformat_minor": 0,
  "metadata": {
    "colab": {
      "private_outputs": true,
      "provenance": []
    },
    "kernelspec": {
      "name": "python3",
      "display_name": "Python 3"
    },
    "language_info": {
      "name": "python"
    }
  },
  "cells": [
    {
      "cell_type": "markdown",
      "source": [
        "컴퓨터에게 명령내리는게 프로그래밍!!\n",
        "우리는 파이썬이라는 언어로 수행할 뿐임"
      ],
      "metadata": {
        "id": "bkTLGjP4glxG"
      }
    },
    {
      "cell_type": "markdown",
      "source": [
        "# 파이썬 문법 1\n",
        "\n",
        "## 가장기본적인 것 : print"
      ],
      "metadata": {
        "id": "EBKrP-NzgwCO"
      }
    },
    {
      "cell_type": "code",
      "execution_count": null,
      "metadata": {
        "id": "-iN2Wn13gKWA"
      },
      "outputs": [],
      "source": [
        "print(1234)  # 소괄호 안에 있는 내용을 출력하라는 명령"
      ]
    },
    {
      "cell_type": "code",
      "source": [
        "print('이새봄')  # 문자열 입력시 따옴표 사용 \"\". ''\n",
        "\n",
        "print(1234+1234)\n",
        "\n",
        "print(이새봄 * 10)"
      ],
      "metadata": {
        "id": "kzioSQ-7hX1e"
      },
      "execution_count": null,
      "outputs": []
    },
    {
      "cell_type": "markdown",
      "source": [
        "## 데이터가 긴 경우 변수를 쓰자!"
      ],
      "metadata": {
        "id": "cqStgwVah7Aj"
      }
    },
    {
      "cell_type": "code",
      "source": [
        "print('우리는 지금 파이썬을 배우고 있다')\n",
        "print('우리는 지금 파이썬을 배우고 있다')\n",
        "print('우리는 지금 파이썬을 배우고 있다')"
      ],
      "metadata": {
        "id": "70qSz2IMhwH6"
      },
      "execution_count": null,
      "outputs": []
    },
    {
      "cell_type": "code",
      "source": [
        "# 변수는 데이터를 잠깐 보관하는 곳\n",
        "# 변수이름 = 담을 데이터\n",
        "\n",
        "A = '우리는 지금 파이썬을 배우고 있다'\n",
        "print(A)"
      ],
      "metadata": {
        "id": "EUeDAR6PiIoL"
      },
      "execution_count": null,
      "outputs": []
    },
    {
      "cell_type": "code",
      "source": [
        "A[0:3]"
      ],
      "metadata": {
        "id": "HJpQqaHymt9Z"
      },
      "execution_count": null,
      "outputs": []
    },
    {
      "cell_type": "code",
      "source": [
        "# 인덱싱\n",
        "\n",
        "print(A[0])\n",
        "print(A[0:2])"
      ],
      "metadata": {
        "id": "mwpGZHaLttZW"
      },
      "execution_count": null,
      "outputs": []
    },
    {
      "cell_type": "markdown",
      "source": [
        "## 기본 자료형\n",
        "- 숫자형: 정수, 실수, 복소수\n",
        "- 논리형: True, False\n",
        "\n"
      ],
      "metadata": {
        "id": "JkkW9syYwTmU"
      }
    },
    {
      "cell_type": "code",
      "source": [
        "# 숫자형 정수\n",
        "\n",
        "a = 123\n",
        "print(a)\n",
        "#숫자형 실수\n",
        "b = 12.34\n",
        "print(b)\n",
        "#숫자형 복소수\n",
        "c = 1+2j\n",
        "print(c)\n",
        "print(abs(c))"
      ],
      "metadata": {
        "id": "ummkT0T3wZSC"
      },
      "execution_count": null,
      "outputs": []
    },
    {
      "cell_type": "code",
      "source": [
        "# 논리형\n",
        "2==3\n"
      ],
      "metadata": {
        "id": "au6SxCRtxaKO"
      },
      "execution_count": null,
      "outputs": []
    },
    {
      "cell_type": "code",
      "source": [
        "True+True"
      ],
      "metadata": {
        "id": "49L1LQeHyDGg"
      },
      "execution_count": null,
      "outputs": []
    },
    {
      "cell_type": "code",
      "source": [
        "# 숫자형 연산(덧셈)\n",
        "\n",
        "a = 3\n",
        "b = 4\n",
        "a + b\n"
      ],
      "metadata": {
        "id": "8Lv8V8O6yKKu"
      },
      "execution_count": null,
      "outputs": []
    },
    {
      "cell_type": "code",
      "source": [
        "a - b"
      ],
      "metadata": {
        "id": "Qpe60WpJyVc3"
      },
      "execution_count": null,
      "outputs": []
    },
    {
      "cell_type": "code",
      "source": [
        "a * b"
      ],
      "metadata": {
        "id": "vl1qPi11yW9Z"
      },
      "execution_count": null,
      "outputs": []
    },
    {
      "cell_type": "code",
      "source": [
        "a / b"
      ],
      "metadata": {
        "id": "-IsNelRxyY3V"
      },
      "execution_count": null,
      "outputs": []
    },
    {
      "cell_type": "code",
      "source": [
        "# 나머지 연산\n",
        "a % b\n"
      ],
      "metadata": {
        "id": "AUiXEkFLybgo"
      },
      "execution_count": null,
      "outputs": []
    },
    {
      "cell_type": "code",
      "source": [
        "# 나눗셈 몫 구하기\n",
        "a // b\n"
      ],
      "metadata": {
        "id": "tH3190CNyf9_"
      },
      "execution_count": null,
      "outputs": []
    },
    {
      "cell_type": "markdown",
      "source": [
        "## 그룹 자료형\n",
        "- 문자열(string), 리스트(list), 튜플(tuple), 딕셔너리(dictionary), 그룹(set)"
      ],
      "metadata": {
        "id": "Hrb88otpynbr"
      }
    },
    {
      "cell_type": "markdown",
      "source": [
        "#### 문자열"
      ],
      "metadata": {
        "id": "NzZoBoic1Yrw"
      }
    },
    {
      "cell_type": "code",
      "source": [
        "s1 = \"Hello world!\"\n",
        "s1"
      ],
      "metadata": {
        "id": "H_ZA-7kAzBS_"
      },
      "execution_count": null,
      "outputs": []
    },
    {
      "cell_type": "code",
      "source": [
        "head = \"Python\"\n",
        "tail = \" is fun\"\n",
        "\n",
        "head + tail"
      ],
      "metadata": {
        "id": "Tdp4Q19TzOfl"
      },
      "execution_count": null,
      "outputs": []
    },
    {
      "cell_type": "code",
      "source": [
        "head * 2\n",
        "\n",
        "print(\"=\" * 5)"
      ],
      "metadata": {
        "id": "ptJRBFHOzW9s"
      },
      "execution_count": null,
      "outputs": []
    },
    {
      "cell_type": "code",
      "source": [
        "# 문자열 인덱싱\n",
        "s2 = \"Now is better than never\"\n",
        "\n",
        "\n",
        "s2[7:-11]"
      ],
      "metadata": {
        "id": "y250uEuhzdwf"
      },
      "execution_count": null,
      "outputs": []
    },
    {
      "cell_type": "code",
      "source": [
        "# 문자열 슬라이싱\n",
        "\n",
        "s2[0:3]\n",
        "\n",
        "s2[4:6]\n",
        "\n",
        "s2[:3]\n",
        "\n",
        "s2[:]\n",
        "\n",
        "s2[7:-11]\n",
        "\n",
        "s2[19:]"
      ],
      "metadata": {
        "id": "yw5rHLvEzt8O"
      },
      "execution_count": null,
      "outputs": []
    },
    {
      "cell_type": "code",
      "source": [
        "# 문자 개수 계산\n",
        "a = \"python\"\n",
        "a.count('p')"
      ],
      "metadata": {
        "id": "g65-xnKAz9fS"
      },
      "execution_count": null,
      "outputs": []
    },
    {
      "cell_type": "code",
      "source": [],
      "metadata": {
        "id": "IRN6qv2JoKNi"
      },
      "execution_count": null,
      "outputs": []
    },
    {
      "cell_type": "code",
      "source": [
        "# 문자 위치 확인 find(), index()\n",
        "\n",
        "#a.find('y') # 문자가 없을 경우 -1 출력\n",
        "\n",
        "a.index('p') # 문자가 없을 경우 에러메시지 출력"
      ],
      "metadata": {
        "id": "uguQvPNE0Imh"
      },
      "execution_count": null,
      "outputs": []
    },
    {
      "cell_type": "code",
      "source": [
        "# 문자 삽입\n",
        "b = \",\"\n",
        "c = b.join('Abcd')\n",
        "c"
      ],
      "metadata": {
        "id": "OZZGxGqp0luy"
      },
      "execution_count": null,
      "outputs": []
    },
    {
      "cell_type": "code",
      "source": [
        "# 대문자 변환\n",
        "\n",
        "a.upper()"
      ],
      "metadata": {
        "id": "HKEXcSKR0uk0"
      },
      "execution_count": null,
      "outputs": []
    },
    {
      "cell_type": "code",
      "source": [
        "# 소문자 변환\n",
        "a.lower()"
      ],
      "metadata": {
        "id": "X-R7LGDd0yvY"
      },
      "execution_count": null,
      "outputs": []
    },
    {
      "cell_type": "code",
      "source": [
        "# 공백제거\n",
        "d = \"    py    \"\n",
        "d.lstrip()"
      ],
      "metadata": {
        "id": "AIKotuQi01tC"
      },
      "execution_count": null,
      "outputs": []
    },
    {
      "cell_type": "code",
      "source": [
        "# 공백제거\n",
        "d = \"    py    \"\n",
        "#d.strip()  # 양쪽 공백 제거\n",
        "\n",
        "d.rstrip() # 오른쪽 공백 제거"
      ],
      "metadata": {
        "id": "RnuNJMHA1IaB"
      },
      "execution_count": null,
      "outputs": []
    },
    {
      "cell_type": "code",
      "source": [
        "# 문자열 바꾸기 replace()\n",
        "\n",
        "a = \"Python is difficult.\"\n",
        "\n",
        "a.replace(\"difficult\", \"funny\")\n"
      ],
      "metadata": {
        "id": "EB5-Cxyz1TS1"
      },
      "execution_count": null,
      "outputs": []
    },
    {
      "cell_type": "code",
      "source": [
        "# 문자열 나누기 split()\n",
        "\n",
        "b = \"a, b, c, d\"\n",
        "b\n",
        "\n",
        "b.split(',')"
      ],
      "metadata": {
        "id": "sVDtupjy1ppP"
      },
      "execution_count": null,
      "outputs": []
    },
    {
      "cell_type": "markdown",
      "source": [
        "#### 리스트\n",
        "\n",
        "- [] 안에 원소를 순서대로 나열한 그룹 자료형\n",
        "- 한 변수에 여러개의 자료를 동시에 저장 가능"
      ],
      "metadata": {
        "id": "TfS38Ec913Sj"
      }
    },
    {
      "cell_type": "code",
      "source": [
        "# 중고차 = 'K5 white 5000'\n",
        "\n",
        "중고차 = ['k5', 'white', 5000] # 리스트는 반드시 [] 사용\n",
        "print(중고차)"
      ],
      "metadata": {
        "id": "NvKfaY4315MR"
      },
      "execution_count": null,
      "outputs": []
    },
    {
      "cell_type": "code",
      "source": [
        "a = [1,2,3]\n",
        "b = ['life', 'is', 'too', 'short']\n",
        "c = [1, 2, 'life', 'is']\n",
        "d = [1, 2, [3, 4], ['life', 'is']]\n",
        "\n",
        "d"
      ],
      "metadata": {
        "id": "Cw5nn3TJ2tbf"
      },
      "execution_count": null,
      "outputs": []
    },
    {
      "cell_type": "code",
      "source": [
        "# 리스트 인덱싱\n",
        "\n",
        "#중고차[0]\n",
        "\n",
        "#d[2]\n",
        "\n",
        "d[3][-1]"
      ],
      "metadata": {
        "id": "0qJHFzzi3fg3"
      },
      "execution_count": null,
      "outputs": []
    },
    {
      "cell_type": "code",
      "source": [
        "# 슬라이싱\n",
        "d[0:3]"
      ],
      "metadata": {
        "id": "yQM8FPLa33Z5"
      },
      "execution_count": null,
      "outputs": []
    },
    {
      "cell_type": "code",
      "source": [
        "# 리스트 수정\n",
        "\n",
        "중고차[1] = 'black'\n",
        "print(중고차[1])"
      ],
      "metadata": {
        "id": "fnwTa9a239Nl"
      },
      "execution_count": null,
      "outputs": []
    },
    {
      "cell_type": "code",
      "source": [
        "#리스트 연결\n",
        "a = [1,2,3]\n",
        "b = ['life', 'is', 'too', 'short']\n",
        "#a+ b\n",
        "\n",
        "#b[0] + \" Hi ! ^^;\"\n",
        "\n",
        "a[0] + 1"
      ],
      "metadata": {
        "id": "_oRHKRkV4Lue"
      },
      "execution_count": null,
      "outputs": []
    },
    {
      "cell_type": "code",
      "source": [
        "# 리스트 반복\n",
        "\n",
        "a * 3"
      ],
      "metadata": {
        "id": "OBseyJ-C4if9"
      },
      "execution_count": null,
      "outputs": []
    },
    {
      "cell_type": "code",
      "source": [
        "# 리스트 삭제\n",
        "\n",
        "del b\n",
        "b"
      ],
      "metadata": {
        "id": "V7EJd17S4mk2"
      },
      "execution_count": null,
      "outputs": []
    },
    {
      "cell_type": "code",
      "source": [
        "# 리스트 원소 추가\n",
        "a.append(5)\n",
        "a"
      ],
      "metadata": {
        "id": "cHGArPrH46tk"
      },
      "execution_count": null,
      "outputs": []
    },
    {
      "cell_type": "code",
      "source": [
        "# 원소 정렬\n",
        "b.sort()"
      ],
      "metadata": {
        "id": "YtGG6VBT5DSY"
      },
      "execution_count": null,
      "outputs": []
    },
    {
      "cell_type": "code",
      "source": [
        "# 원소 삽입\n",
        "\n",
        "a.insert(0, 99)\n",
        "a"
      ],
      "metadata": {
        "id": "ybRmhZoL5OZ9"
      },
      "execution_count": null,
      "outputs": []
    },
    {
      "cell_type": "code",
      "source": [
        "#  원소 삭제\n",
        "a.remove(99)\n",
        "a"
      ],
      "metadata": {
        "id": "8TBftaWV5Vap"
      },
      "execution_count": null,
      "outputs": []
    },
    {
      "cell_type": "markdown",
      "source": [
        "#### 튜플\n",
        "- () 안에 원소를 순서대로 나열한 그룹 자료형\n",
        "- 리스트와 달리 원소의 값을 변경할 수 없음"
      ],
      "metadata": {
        "id": "GfN3Y9hv5yxc"
      }
    },
    {
      "cell_type": "code",
      "source": [
        "t1 = (1, )\n",
        "t2 = (1,2,3)\n",
        "t3=1,2,3\n",
        "t4=(1,2,(3,4),('life', 'is'))"
      ],
      "metadata": {
        "id": "AcXzuAKh5qbd"
      },
      "execution_count": null,
      "outputs": []
    },
    {
      "cell_type": "markdown",
      "source": [
        "#### 딕셔너리\n",
        "- {} 안에 key:value 처럼 쌍의 형태로 이루어진 원소를 가지는 그룹 자료형\n",
        "- 원소는 순서를 가지지 않으므로 인덱스 대신 key를 이용하여 원소를 지정함\n"
      ],
      "metadata": {
        "id": "c7-L10-_6T_W"
      }
    },
    {
      "cell_type": "code",
      "source": [
        "중고차2 = {'brand': 'BMW', 'model':'520d' }\n",
        "print(중고차2)"
      ],
      "metadata": {
        "id": "rJ7eqD7y6idD"
      },
      "execution_count": null,
      "outputs": []
    },
    {
      "cell_type": "code",
      "source": [
        "# 딕셔너리 만들기\n",
        "#dic = {'name':'Hong', 'phone':'01012345678', 'birth':'0814'}\n",
        "\n",
        "dic = {'name':'Hong',\n",
        "       'phone':'01012345678',\n",
        "       'birth':'0814'}\n"
      ],
      "metadata": {
        "id": "v7a5clkv617b"
      },
      "execution_count": null,
      "outputs": []
    },
    {
      "cell_type": "code",
      "source": [
        "# 딕셔너리 원소 추가\n",
        "#dic[1] = 'a'\n",
        "#dic\n",
        "\n",
        "dic['pet'] = 'dog'\n",
        "dic"
      ],
      "metadata": {
        "id": "mgQont4z7GH9"
      },
      "execution_count": null,
      "outputs": []
    },
    {
      "cell_type": "code",
      "source": [
        "# 딕셔너리 원소 삭제\n",
        "del dic[1]\n",
        "dic"
      ],
      "metadata": {
        "id": "hkikUuP47Q3g"
      },
      "execution_count": null,
      "outputs": []
    },
    {
      "cell_type": "code",
      "source": [
        "# 원소의 value 구하기\n",
        "dic['pet']"
      ],
      "metadata": {
        "id": "Ff2gp8U87uO9"
      },
      "execution_count": null,
      "outputs": []
    },
    {
      "cell_type": "code",
      "source": [
        "# key 리스트 만들기\n",
        "dic.keys()\n",
        "\n",
        "list(dic.keys())"
      ],
      "metadata": {
        "id": "16pGCezd72RB"
      },
      "execution_count": null,
      "outputs": []
    },
    {
      "cell_type": "code",
      "source": [
        "# value 리스트 만들기\n",
        "dic.values()\n",
        "list(dic.values())\n"
      ],
      "metadata": {
        "id": "2KgrWMCL8I-Q"
      },
      "execution_count": null,
      "outputs": []
    },
    {
      "cell_type": "code",
      "source": [
        "# key, valule 쌍 구하기\n",
        "dic.items()\n"
      ],
      "metadata": {
        "id": "ctr08NZj8Rgs"
      },
      "execution_count": null,
      "outputs": []
    },
    {
      "cell_type": "code",
      "source": [
        "#원소 삭제\n",
        "dic.clear()\n",
        "dic"
      ],
      "metadata": {
        "id": "_cM5FP-O8Wnc"
      },
      "execution_count": null,
      "outputs": []
    },
    {
      "cell_type": "markdown",
      "source": [
        "##조건문과 반복문\n",
        "#### 조건문 : 참(Ture) 또는 거짓(False)을 판별하는 조건식을 검사하여 결과값이 참인지 거짓인지에 따라 실행할 문장을 선택하여 처리하는 제어문\n",
        "\n",
        "- if문, if-else문, if-elif-else문"
      ],
      "metadata": {
        "id": "9g4tVwkG8ng2"
      }
    },
    {
      "cell_type": "code",
      "source": [],
      "metadata": {
        "id": "-B09RVcXxXGm"
      },
      "execution_count": null,
      "outputs": []
    },
    {
      "cell_type": "markdown",
      "source": [
        "- if문: 단일 조건문으로 조건식을 검사하여 결과가 참이면 명령문1을 수행하고  거짓이면 명령문1을 건너뛰고 명령문 2를 수행함\n",
        "\n",
        "\n"
      ],
      "metadata": {
        "id": "pyBUQ4oM9OKb"
      }
    },
    {
      "cell_type": "code",
      "source": [
        "'''\n",
        "if 조건식:\n",
        "      실행할 명령문1\n",
        "실행할 명령문2\n",
        "'''\n",
        "\n",
        "재고량 = 1\n",
        "\n",
        "if 재고량 > 0 :\n",
        "    print('지금 주문가능합니다.')\n"
      ],
      "metadata": {
        "id": "FXw99XH89rcM"
      },
      "execution_count": null,
      "outputs": []
    },
    {
      "cell_type": "code",
      "source": [
        "재고량 = 0\n",
        "\n",
        "if 재고량 > 0 :\n",
        "    print('지금 주문가능합니다.')\n",
        "print('지금 주문이 불가능합니다.')"
      ],
      "metadata": {
        "id": "ilsfSnnq-8Ri"
      },
      "execution_count": null,
      "outputs": []
    },
    {
      "cell_type": "code",
      "source": [
        "중고차재고 = ['K5', 'Sonata', 'BMW']\n",
        "\n",
        "if 'K5' in 중고차재고 :\n",
        "    print('지금 주문가능합니다.')"
      ],
      "metadata": {
        "id": "XIQTxFS3_boh"
      },
      "execution_count": null,
      "outputs": []
    },
    {
      "cell_type": "markdown",
      "source": [
        "- if-else문: 단일 조건문으로 조건식을 검사하여 결과가 참이면 명령문 1을 수행한뒤 명령을 3을 수행하고 거짓이면 명령문 2를 수행한뒤 명령문 3을 수행한다."
      ],
      "metadata": {
        "id": "11pfmLvp_4Ha"
      }
    },
    {
      "cell_type": "code",
      "source": [
        "'''\n",
        "if 조건식:\n",
        "    실행할 명령문1\n",
        "else:\n",
        "    실행할 명령문2\n",
        "\n",
        "실행할 명령문 3\n",
        "'''\n"
      ],
      "metadata": {
        "id": "Lj_hYK40AGB-"
      },
      "execution_count": null,
      "outputs": []
    },
    {
      "cell_type": "code",
      "source": [
        "if 'K6' in 중고차재고 :\n",
        "    print('지금주문가능합니다.')\n",
        "else :\n",
        "    print('주문 불가능합니다.')\n",
        "print('다른 브랜드를 주문하세요')"
      ],
      "metadata": {
        "id": "4h-IqTt6APfZ"
      },
      "execution_count": null,
      "outputs": []
    },
    {
      "cell_type": "code",
      "source": [],
      "metadata": {
        "id": "Gh9GH_9lApld"
      },
      "execution_count": null,
      "outputs": []
    },
    {
      "cell_type": "markdown",
      "source": [
        "- 다중if문 : if-elif-else문\n",
        "- 조건식1이 거짓이면 조건식 2를 검사\n"
      ],
      "metadata": {
        "id": "aZ42tZX9ArOA"
      }
    },
    {
      "cell_type": "code",
      "source": [
        "'''\n",
        "if 조건식1 :\n",
        "    실행할 명령문1\n",
        "elif 조건식 2 :\n",
        "    실행할 명령문2\n",
        "else :\n",
        "    실행할 명령문3"
      ],
      "metadata": {
        "id": "4qhtBtzfA3ob"
      },
      "execution_count": null,
      "outputs": []
    },
    {
      "cell_type": "code",
      "source": [
        "score = 90\n",
        "\n",
        "if score >= 94: # 94점부터 100점\n",
        "    print('1등급입니다.')\n",
        "elif score >= 87: # 93점부터 87점\n",
        "    print('2등급입니다.')\n",
        "elif score >= 81: # 86점부터 81점\n",
        "    print('3등급입니다.')\n",
        "else:\n",
        "    print('3등급 미만입니다.')"
      ],
      "metadata": {
        "id": "NZVEXZ7YCvYf"
      },
      "execution_count": null,
      "outputs": []
    },
    {
      "cell_type": "markdown",
      "source": [
        "* 나이에 따라서 입장료는 다음과 같다고 해보자.\n",
        "* 1세 이상 ~ 8세 미만: 3,000원\n",
        "* 8세 이상 ~ 19세 미만: 7,000원\n",
        "* 19세 이상 ~ 60세 미만: 12,000원\n",
        "* 60세 이상: 0원"
      ],
      "metadata": {
        "id": "FJOY-I02C5hC"
      }
    },
    {
      "cell_type": "code",
      "source": [
        "\n",
        "age = 25\n",
        "\n",
        "if age >= 1 and age < 8:\n",
        "    print(\"입장료는\", 3000, \"원입니다.\")\n",
        "elif age >= 8 and age < 19:\n",
        "    print(\"입장료는\", 7000, \"원입니다.\")\n",
        "elif age >= 19 and age < 60:\n",
        "    print(\"입장료는\", 12000, \"원입니다.\")\n",
        "elif age >= 60:\n",
        "    print(\"입장료는\", 0, \"원입니다.\")"
      ],
      "metadata": {
        "id": "GllNAeXEC1NG"
      },
      "execution_count": null,
      "outputs": []
    },
    {
      "cell_type": "markdown",
      "source": [
        "#### 반복문: 지정한 범위에 해당하는 만큼 명령문을 반복해서 실행함\n",
        "- for문\n",
        "- while문"
      ],
      "metadata": {
        "id": "RYVHSOzK9DmB"
      }
    },
    {
      "cell_type": "code",
      "source": [
        "for x in [1, 2, 3, 4, 5, 6, 7, 8, 9]:\n",
        "    print(x)"
      ],
      "metadata": {
        "id": "H1ThUC8mBK90"
      },
      "execution_count": null,
      "outputs": []
    },
    {
      "cell_type": "code",
      "source": [
        "#반복문 중첩(구구단 예제)\n",
        "for i in range(1, 10):\n",
        "    for j in range(1, 10):\n",
        "        print(i, \"X\", j, \"=\", i * j)"
      ],
      "metadata": {
        "id": "kxmPqjcwDQiD"
      },
      "execution_count": null,
      "outputs": []
    },
    {
      "cell_type": "code",
      "source": [
        "#While문\n",
        "\n",
        "i = 0\n",
        "while i < 5 :\n",
        "    i += 1\n",
        "    print('*'*i)\n",
        "\n"
      ],
      "metadata": {
        "id": "HB24vPJMDbsv"
      },
      "execution_count": null,
      "outputs": []
    },
    {
      "cell_type": "code",
      "source": [
        "#for문법은 range()와 함께 사용가능\n",
        "#1부터 50까지의 수를 더한 값을 계산\n",
        "\n",
        "result = 0\n",
        "for i in range(1, 51): #1부터 50까지\n",
        "    result += i\n",
        "\n",
        "print(result)"
      ],
      "metadata": {
        "id": "3XqBCJ0TEe5h"
      },
      "execution_count": null,
      "outputs": []
    },
    {
      "cell_type": "code",
      "source": [
        "과일 = ['apple', 'banana', 'tomato']\n",
        "\n",
        "for i in 과일 :\n",
        "    print(i)\n"
      ],
      "metadata": {
        "id": "Nrxw6NvSE_Mr"
      },
      "execution_count": null,
      "outputs": []
    },
    {
      "cell_type": "markdown",
      "source": [
        "조건문\n",
        "\n",
        "점수가 70점 이상인 경우 합력, 69~50점이면 재시험,\n",
        "아니면 불합격\n",
        "\n",
        "score = 60"
      ],
      "metadata": {
        "id": "4szTipibgvJE"
      }
    },
    {
      "cell_type": "markdown",
      "source": [
        "반복문\n",
        "\n",
        "while 조건식:\n",
        "    명령문\n"
      ],
      "metadata": {
        "id": "ai6JpsNniR0r"
      }
    },
    {
      "cell_type": "code",
      "source": [
        "#while 문 초기식, 변화문을 같이 작성해줘야 함\n",
        "\n",
        "num = 1\n",
        "while num <= 5:\n",
        "  print(num)\n",
        "  num = num + 1 # 변화식"
      ],
      "metadata": {
        "id": "iaQ7or20hHWt"
      },
      "execution_count": null,
      "outputs": []
    },
    {
      "cell_type": "code",
      "source": [
        "count = 0\n",
        "while count < 5 :\n",
        "  count += 1   # count = count + 1\n",
        "  print(f'{count}번 반복')\n",
        "print(f'{count}번 반복 후 종료')"
      ],
      "metadata": {
        "id": "MyOn6xcEiZmc"
      },
      "execution_count": null,
      "outputs": []
    },
    {
      "cell_type": "markdown",
      "source": [
        "while ~ break\n",
        "while ~ if ~ break\n",
        "\n",
        "break: 조건이 항상 참인 경우 무한 반복되는데, 실행을 중지시킬때 break를 삽입\n"
      ],
      "metadata": {
        "id": "u5WC1Lh3jmT0"
      }
    },
    {
      "cell_type": "code",
      "source": [
        "count = 0\n",
        "while True:\n",
        "  count += 1\n",
        "  if count == 3:\n",
        "    print(f'{count}번 반복후 종료')\n",
        "    break\n",
        "\n"
      ],
      "metadata": {
        "id": "ikYwb-shj5WV"
      },
      "execution_count": null,
      "outputs": []
    },
    {
      "cell_type": "code",
      "source": [
        "# while ~ if ~ continue\n",
        "# 조건을 만족하면 반복문 처음으로 보내서 다시 계속 실행하게 함\n",
        "# 특정 조건의 실행을 건너뛰기 할때 사용\n",
        "\n",
        "count = 0\n",
        "while count < 5:\n",
        "  count += 1\n",
        "  if count == 3:\n",
        "    continue\n",
        "  print(f'{count}번 반복')"
      ],
      "metadata": {
        "id": "nbV3tFBJkf2z"
      },
      "execution_count": null,
      "outputs": []
    },
    {
      "cell_type": "code",
      "source": [
        "## i부터 99까지 숫자의 합을 반복문을 사용해서 합계를 출력\n",
        "# 1~99까지의 합계: 합곗숫자\n",
        "\n",
        "tot = 0"
      ],
      "metadata": {
        "id": "g6azu1FXlXCF"
      },
      "execution_count": null,
      "outputs": []
    },
    {
      "cell_type": "markdown",
      "source": [
        "별찍기\n",
        "\n",
        "*****\n",
        "****\n",
        "***\n",
        "**\n",
        "*"
      ],
      "metadata": {
        "id": "cXTbbzubm0zT"
      }
    },
    {
      "cell_type": "code",
      "source": [
        "response = \"\"\n",
        "\n",
        "for i in range(1, 6):\n",
        "  for j in range(0, 6-i):\n",
        "    response += \"*\"\n",
        "  response += \"\\n\"\n",
        "\n",
        "print(response)"
      ],
      "metadata": {
        "id": "6biCrnTPnO2j"
      },
      "execution_count": null,
      "outputs": []
    },
    {
      "cell_type": "markdown",
      "source": [
        "# 파일 읽기와 쓰기\n",
        "- 파일 객체를 만들 때는 open(), 파일 객체를 닫을 때는 close()함수를 사용\n",
        "\n",
        "<pre>\n",
        "f = open(\"example.txt\", \"w\")\n",
        "f.close()\n",
        "</pre>\n",
        "\n",
        "* 파이썬에서는 여러 가지 파일 모드(mode)를 제공한다.\n",
        "  * r: <b>읽기(read)</b> 모드(파일 읽기)\n",
        "  * w: <b>쓰기(write)</b> 모드(파일에 내용을 쓰기)\n",
        "  * a: <b>추가(append)</b> 모드(파일의 마지막에 새로운 내용 추가)"
      ],
      "metadata": {
        "id": "bwl2LkzIGDj5"
      }
    },
    {
      "cell_type": "code",
      "source": [
        "#파일 만들기(덮어쓰기 가능)\n",
        "f = open('a.txt', 'w')\n",
        "f.write('안녕하세요')\n",
        "f.close() # 오픈한 파일은 반드시 닫아줘야 함"
      ],
      "metadata": {
        "id": "NP-CbkXiGC-h"
      },
      "execution_count": null,
      "outputs": []
    },
    {
      "cell_type": "code",
      "source": [
        "# 파일 읽어오기\n",
        "\n",
        "f = open('example.txt', 'r')\n",
        "print(f.read())\n",
        "f.close()"
      ],
      "metadata": {
        "id": "XCTKQZ0rILH7"
      },
      "execution_count": null,
      "outputs": []
    },
    {
      "cell_type": "code",
      "source": [
        "# 01.ist_chr.csv 읽어오"
      ],
      "metadata": {
        "id": "QrI3jnhro6zk"
      },
      "execution_count": null,
      "outputs": []
    },
    {
      "cell_type": "code",
      "source": [
        "#파일 내용 추가하기\n",
        "\n",
        "f = open('example.txt', 'a')\n",
        "f.write('반가워')\n",
        "f.close()"
      ],
      "metadata": {
        "id": "PjHcFRXTIexZ"
      },
      "execution_count": null,
      "outputs": []
    },
    {
      "cell_type": "code",
      "source": [
        "#파일 내용 추가하기\n",
        "\n",
        "f = open('a.txt', 'a')\n",
        "f.write('\\n반가워')  #\\n은 엔터키를 의미함\n",
        "f.close()"
      ],
      "metadata": {
        "id": "WvWbEl9JJIUk"
      },
      "execution_count": null,
      "outputs": []
    },
    {
      "cell_type": "code",
      "source": [
        "#csv 형식으로 파일만들기\n",
        "\n",
        "f = open('data.csv', 'w')\n",
        "f.write('봄, 여름, 가을, 겨울')\n",
        "f.close()"
      ],
      "metadata": {
        "id": "m30V7aMaJldl"
      },
      "execution_count": null,
      "outputs": []
    },
    {
      "cell_type": "code",
      "source": [
        "# 연습문제1: b.txt 파일 만들기\n",
        "회사명 = ['삼성전자', '카카오', '네이버', '심풍제약']\n",
        "\n",
        "b= open('b.txt', 'w')\n",
        "b.write(회사명[0] + '\\n')\n",
        "b.write(회사명[1] + '\\n')\n",
        "b.write(회사명[2] + '\\n')\n",
        "b.write(회사명[3] + '\\n')\n",
        "b.close()"
      ],
      "metadata": {
        "id": "mIvfLsWTKjX5"
      },
      "execution_count": null,
      "outputs": []
    },
    {
      "cell_type": "code",
      "source": [
        "#반복문 사용으로 만들기\n",
        "b= open('b.txt', 'w')\n",
        "\n",
        "for i in range(1,5):\n",
        "    b.write(회사명[i] + '\\n')\n",
        "b.close()"
      ],
      "metadata": {
        "id": "YjaHZNERLraZ"
      },
      "execution_count": null,
      "outputs": []
    },
    {
      "cell_type": "code",
      "source": [
        "# 파일 읽기\n",
        "# read()함수 사용하면 전체 내용을 하나의 문자열로 반환\n",
        "\n",
        "f = open(\"data.txt\", \"r\")\n",
        "data = f.read()\n",
        "print(data)\n",
        "f.close()"
      ],
      "metadata": {
        "id": "COqDlhpKNKcf"
      },
      "execution_count": null,
      "outputs": []
    },
    {
      "cell_type": "code",
      "source": [
        "import pandas as pd\n",
        "data = pd.read_csv('01.ist_chr.csv', sep=',', encoding = 'euc-kr')\n",
        "\n",
        "print(data.head())"
      ],
      "metadata": {
        "id": "Q-502F6hp2Ja"
      },
      "execution_count": null,
      "outputs": []
    }
  ]
}