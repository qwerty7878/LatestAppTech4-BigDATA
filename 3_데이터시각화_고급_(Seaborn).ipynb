{
  "nbformat": 4,
  "nbformat_minor": 0,
  "metadata": {
    "colab": {
      "private_outputs": true,
      "provenance": []
    },
    "kernelspec": {
      "name": "python3",
      "display_name": "Python 3"
    },
    "language_info": {
      "name": "python"
    }
  },
  "cells": [
    {
      "cell_type": "code",
      "execution_count": null,
      "metadata": {
        "id": "7itzeOr13fOO"
      },
      "outputs": [],
      "source": [
        "#한글 폰트 설치\n",
        "!sudo apt-get install -y fonts-nanum\n",
        "!sudo fc-cache -fv\n",
        "!rm ~/.cache/matplotlib -rf"
      ]
    },
    {
      "cell_type": "code",
      "source": [
        "import matplotlib.pyplot as plt\n",
        "\n",
        "plt.rc('font', family='NanumBarunGothic')"
      ],
      "metadata": {
        "id": "LhUEFmFX347S"
      },
      "execution_count": null,
      "outputs": []
    },
    {
      "cell_type": "code",
      "source": [
        "# 라이브러리 불러오기\n",
        "\n",
        "import seaborn as sns\n",
        "import pandas as pd\n"
      ],
      "metadata": {
        "id": "2dFK1pHb4MkK"
      },
      "execution_count": null,
      "outputs": []
    },
    {
      "cell_type": "code",
      "source": [
        "# 데이터 준비(딕셔너리 형태)\n",
        "data = {\n",
        "    'Category' : ['A', 'A', 'A', 'B', 'C', 'B', 'C', 'C'],\n",
        "    'Value' : [1, 2, 3, 4, 5, 6, 7, 8]\n",
        "}\n",
        "\n",
        "df = pd.DataFrame(data) #data 변수를 이용해서 데이터프레임형태로 만들어줘\n",
        "\n",
        "#박스플롯 그리기\n",
        "sns.boxplot(x = 'Category', y='Value', data = df)\n",
        "\n",
        "plt.show()"
      ],
      "metadata": {
        "id": "ov0YMM6p4eSg"
      },
      "execution_count": null,
      "outputs": []
    },
    {
      "cell_type": "code",
      "source": [
        "# Seabon라이브러리에 포함된 데이터 셋을 활용하기\n",
        "\n",
        "# titanic data 불러오기\n",
        "titanic = sns.load_dataset('titanic')\n",
        "\n",
        "# 데이터프레임출력\n",
        "print(titanic.head())\n"
      ],
      "metadata": {
        "id": "5NYqGBZw6j9q"
      },
      "execution_count": null,
      "outputs": []
    },
    {
      "cell_type": "code",
      "source": [
        "# join plot 그리기\n",
        "\n",
        "sns.jointplot(x = 'age', y = 'fare', data = titanic)\n",
        "\n",
        "plt.show()"
      ],
      "metadata": {
        "id": "U6bFr5qj8M0D"
      },
      "execution_count": null,
      "outputs": []
    },
    {
      "cell_type": "code",
      "source": [
        "# 붓꽃 데이터 활용 pair plot 그리기\n",
        "# 3차원 이상의 데이터 비교가 가능한 그래프\n",
        "\n",
        "iris_data = sns.load_dataset('iris')\n",
        "\n",
        "# print(iris_data.head())\n",
        "\n",
        "# 페어플롯 그리기\n",
        "sns.pairplot(iris_data)\n",
        "\n",
        "plt.show()\n"
      ],
      "metadata": {
        "id": "7YHW3JhI9Cb7"
      },
      "execution_count": null,
      "outputs": []
    },
    {
      "cell_type": "code",
      "source": [
        "#히트맵\n",
        "\n",
        "# 여객 운송 데이터\n",
        "flights = sns.load_dataset('flights')\n",
        "# print(flights.head())\n",
        "\n",
        "# 피벗 테이블 생성\n",
        "pivot_table = flights.pivot('month', 'year', 'passengers')\n",
        "\n",
        "# 히트맵 그리기\n",
        "sns.heatmap(pivot_table, annot = True, fmt = 'd' )"
      ],
      "metadata": {
        "id": "H985dTyX-H07"
      },
      "execution_count": null,
      "outputs": []
    },
    {
      "cell_type": "code",
      "source": [
        "# 바이올린 플롯\n",
        "#타이타닉 데이터 활용\n",
        "sns.violinplot(x = 'sex', y = 'age', data = titanic)\n",
        "\n",
        "plt.show()"
      ],
      "metadata": {
        "id": "3uZrHKxo_qBE"
      },
      "execution_count": null,
      "outputs": []
    },
    {
      "cell_type": "code",
      "source": [
        "penugins = [1.2, 2.5, 3.7, 2.1, 4.3, 1.8]\n",
        "sns.stripplot(data = penugins)"
      ],
      "metadata": {
        "id": "deOl-cgrAU5a"
      },
      "execution_count": null,
      "outputs": []
    },
    {
      "cell_type": "code",
      "source": [],
      "metadata": {
        "id": "mCI-EOOmA-30"
      },
      "execution_count": null,
      "outputs": []
    }
  ]
}