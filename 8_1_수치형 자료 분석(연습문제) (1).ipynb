{
 "cells": [
  {
   "cell_type": "markdown",
   "id": "bfb89b62-6eea-48f1-a7f9-cbf9a6ec99ca",
   "metadata": {},
   "source": [
    "# 08.수치형 자료 분석\n",
    "- https://pandas.pydata.org/docs/getting_started/intro_tutorials/06_calculate_statistics.html"
   ]
  },
  {
   "cell_type": "markdown",
   "id": "1c9cc404-b98b-40eb-ab6e-de814ddc3915",
   "metadata": {},
   "source": [
    "## 1.package 설치"
   ]
  },
  {
   "cell_type": "code",
   "execution_count": 1,
   "id": "f365eab9-dc82-4180-80ae-d74dcfebd0fd",
   "metadata": {},
   "outputs": [],
   "source": [
    "import numpy as np\n",
    "import pandas as pd\n",
    "import matplotlib.pyplot as plt\n",
    "import seaborn as sns\n",
    "from scipy import stats          # 통계분석 package\n",
    "from scipy.stats import iqr"
   ]
  },
  {
   "cell_type": "code",
   "execution_count": 2,
   "id": "5e763645-3c6e-454d-bd8a-ebfdc1874652",
   "metadata": {},
   "outputs": [],
   "source": [
    "# 기본세팅\n",
    "# 에러화면 세팅\n",
    "import warnings\n",
    "warnings.simplefilter(action = 'ignore', category = FutureWarning)\n",
    "warnings.simplefilter(action = 'ignore', category = UserWarning)\n",
    "\n",
    "# 테마 설정\n",
    "sns.set_theme(style = \"darkgrid\")\n",
    "\n",
    "# 한글 인식\n",
    "plt.rc('font', family='Malgun Gothic')\n",
    "plt.rcParams['axes.unicode_minus'] = False # -인식"
   ]
  },
  {
   "cell_type": "markdown",
   "id": "bfe93bf6-5d43-4015-be24-66608da75cb0",
   "metadata": {},
   "source": [
    "## 2.데이터 불러오기"
   ]
  },
  {
   "cell_type": "markdown",
   "id": "5a25e0e3-e612-41dd-8138-6256658b2f82",
   "metadata": {},
   "source": [
    "### 2.1 데이터 프레임으로 저장\n",
    "- 원본데이터(csv)를 dataframe 형태로 가져오기(pandas)"
   ]
  },
  {
   "cell_type": "code",
   "execution_count": 3,
   "id": "6ed33a68-fb73-4593-8c1d-d2dacbb5049c",
   "metadata": {},
   "outputs": [
    {
     "data": {
      "text/html": [
       "<div>\n",
       "<style scoped>\n",
       "    .dataframe tbody tr th:only-of-type {\n",
       "        vertical-align: middle;\n",
       "    }\n",
       "\n",
       "    .dataframe tbody tr th {\n",
       "        vertical-align: top;\n",
       "    }\n",
       "\n",
       "    .dataframe thead th {\n",
       "        text-align: right;\n",
       "    }\n",
       "</style>\n",
       "<table border=\"1\" class=\"dataframe\">\n",
       "  <thead>\n",
       "    <tr style=\"text-align: right;\">\n",
       "      <th></th>\n",
       "      <th>id</th>\n",
       "      <th>sex</th>\n",
       "      <th>school</th>\n",
       "      <th>age</th>\n",
       "      <th>design</th>\n",
       "      <th>flow</th>\n",
       "    </tr>\n",
       "  </thead>\n",
       "  <tbody>\n",
       "    <tr>\n",
       "      <th>0</th>\n",
       "      <td>1</td>\n",
       "      <td>1</td>\n",
       "      <td>1</td>\n",
       "      <td>18</td>\n",
       "      <td>1.231512</td>\n",
       "      <td>2.063943</td>\n",
       "    </tr>\n",
       "    <tr>\n",
       "      <th>1</th>\n",
       "      <td>2</td>\n",
       "      <td>2</td>\n",
       "      <td>3</td>\n",
       "      <td>23</td>\n",
       "      <td>0.700397</td>\n",
       "      <td>-0.338688</td>\n",
       "    </tr>\n",
       "    <tr>\n",
       "      <th>2</th>\n",
       "      <td>3</td>\n",
       "      <td>1</td>\n",
       "      <td>3</td>\n",
       "      <td>23</td>\n",
       "      <td>-0.194993</td>\n",
       "      <td>0.750929</td>\n",
       "    </tr>\n",
       "    <tr>\n",
       "      <th>3</th>\n",
       "      <td>4</td>\n",
       "      <td>2</td>\n",
       "      <td>2</td>\n",
       "      <td>20</td>\n",
       "      <td>1.201798</td>\n",
       "      <td>-2.202339</td>\n",
       "    </tr>\n",
       "    <tr>\n",
       "      <th>4</th>\n",
       "      <td>5</td>\n",
       "      <td>1</td>\n",
       "      <td>4</td>\n",
       "      <td>22</td>\n",
       "      <td>0.144357</td>\n",
       "      <td>-0.175068</td>\n",
       "    </tr>\n",
       "    <tr>\n",
       "      <th>5</th>\n",
       "      <td>6</td>\n",
       "      <td>1</td>\n",
       "      <td>4</td>\n",
       "      <td>24</td>\n",
       "      <td>-0.825783</td>\n",
       "      <td>-0.338688</td>\n",
       "    </tr>\n",
       "    <tr>\n",
       "      <th>6</th>\n",
       "      <td>7</td>\n",
       "      <td>1</td>\n",
       "      <td>2</td>\n",
       "      <td>21</td>\n",
       "      <td>-0.447367</td>\n",
       "      <td>0.750929</td>\n",
       "    </tr>\n",
       "    <tr>\n",
       "      <th>7</th>\n",
       "      <td>8</td>\n",
       "      <td>2</td>\n",
       "      <td>1</td>\n",
       "      <td>60</td>\n",
       "      <td>-1.099301</td>\n",
       "      <td>-3.291956</td>\n",
       "    </tr>\n",
       "    <tr>\n",
       "      <th>8</th>\n",
       "      <td>9</td>\n",
       "      <td>2</td>\n",
       "      <td>2</td>\n",
       "      <td>25</td>\n",
       "      <td>0.334876</td>\n",
       "      <td>-0.338688</td>\n",
       "    </tr>\n",
       "    <tr>\n",
       "      <th>9</th>\n",
       "      <td>10</td>\n",
       "      <td>1</td>\n",
       "      <td>3</td>\n",
       "      <td>20</td>\n",
       "      <td>-1.665145</td>\n",
       "      <td>-1.112722</td>\n",
       "    </tr>\n",
       "  </tbody>\n",
       "</table>\n",
       "</div>"
      ],
      "text/plain": [
       "   id  sex  school  age    design      flow\n",
       "0   1    1       1   18  1.231512  2.063943\n",
       "1   2    2       3   23  0.700397 -0.338688\n",
       "2   3    1       3   23 -0.194993  0.750929\n",
       "3   4    2       2   20  1.201798 -2.202339\n",
       "4   5    1       4   22  0.144357 -0.175068\n",
       "5   6    1       4   24 -0.825783 -0.338688\n",
       "6   7    1       2   21 -0.447367  0.750929\n",
       "7   8    2       1   60 -1.099301 -3.291956\n",
       "8   9    2       2   25  0.334876 -0.338688\n",
       "9  10    1       3   20 -1.665145 -1.112722"
      ]
     },
     "execution_count": 3,
     "metadata": {},
     "output_type": "execute_result"
    }
   ],
   "source": [
    "online_df = pd.read_csv('07.online.csv', encoding=\"cp949\")\n",
    "online_df.head(10)"
   ]
  },
  {
   "cell_type": "markdown",
   "id": "93360bb0-e309-4753-a680-bca4e193f105",
   "metadata": {},
   "source": [
    "### 2.2 자료구조 살펴보기"
   ]
  },
  {
   "cell_type": "code",
   "execution_count": 4,
   "id": "1410f020-2789-46d6-ad11-312a16eae3f2",
   "metadata": {},
   "outputs": [
    {
     "name": "stdout",
     "output_type": "stream",
     "text": [
      "<class 'pandas.core.frame.DataFrame'>\n",
      "RangeIndex: 175 entries, 0 to 174\n",
      "Data columns (total 6 columns):\n",
      " #   Column  Non-Null Count  Dtype  \n",
      "---  ------  --------------  -----  \n",
      " 0   id      175 non-null    int64  \n",
      " 1   sex     175 non-null    int64  \n",
      " 2   school  175 non-null    int64  \n",
      " 3   age     175 non-null    int64  \n",
      " 4   design  175 non-null    float64\n",
      " 5   flow    175 non-null    float64\n",
      "dtypes: float64(2), int64(4)\n",
      "memory usage: 8.3 KB\n"
     ]
    }
   ],
   "source": [
    "online_df.info()"
   ]
  },
  {
   "cell_type": "code",
   "execution_count": 5,
   "id": "6b0ed137-11d1-4727-8b11-4a9d2e71a058",
   "metadata": {},
   "outputs": [
    {
     "data": {
      "text/plain": [
       "(175, 6)"
      ]
     },
     "execution_count": 5,
     "metadata": {},
     "output_type": "execute_result"
    }
   ],
   "source": [
    "online_df.shape"
   ]
  },
  {
   "cell_type": "code",
   "execution_count": 6,
   "id": "28d6436b-b8eb-4639-ac62-b0a16fd1143b",
   "metadata": {},
   "outputs": [
    {
     "data": {
      "text/plain": [
       "id          int64\n",
       "sex         int64\n",
       "school      int64\n",
       "age         int64\n",
       "design    float64\n",
       "flow      float64\n",
       "dtype: object"
      ]
     },
     "execution_count": 6,
     "metadata": {},
     "output_type": "execute_result"
    }
   ],
   "source": [
    "online_df.dtypes"
   ]
  },
  {
   "cell_type": "markdown",
   "id": "cb18d48d-e956-413d-9f9e-5c8ed90b3832",
   "metadata": {},
   "source": [
    "### 2.3 범주형 변수 처리\n",
    "- 가변수 처리시 문자로 처리를 해야 변수명 구분이 쉬움"
   ]
  },
  {
   "cell_type": "code",
   "execution_count": 7,
   "id": "40fc3739-f24d-4a59-8877-24183ac8b708",
   "metadata": {},
   "outputs": [
    {
     "data": {
      "text/html": [
       "<div>\n",
       "<style scoped>\n",
       "    .dataframe tbody tr th:only-of-type {\n",
       "        vertical-align: middle;\n",
       "    }\n",
       "\n",
       "    .dataframe tbody tr th {\n",
       "        vertical-align: top;\n",
       "    }\n",
       "\n",
       "    .dataframe thead th {\n",
       "        text-align: right;\n",
       "    }\n",
       "</style>\n",
       "<table border=\"1\" class=\"dataframe\">\n",
       "  <thead>\n",
       "    <tr style=\"text-align: right;\">\n",
       "      <th></th>\n",
       "      <th>id</th>\n",
       "      <th>sex</th>\n",
       "      <th>school</th>\n",
       "      <th>age</th>\n",
       "      <th>design</th>\n",
       "      <th>flow</th>\n",
       "    </tr>\n",
       "  </thead>\n",
       "  <tbody>\n",
       "    <tr>\n",
       "      <th>0</th>\n",
       "      <td>1</td>\n",
       "      <td>남자</td>\n",
       "      <td>고졸이하</td>\n",
       "      <td>18</td>\n",
       "      <td>1.231512</td>\n",
       "      <td>2.063943</td>\n",
       "    </tr>\n",
       "    <tr>\n",
       "      <th>1</th>\n",
       "      <td>2</td>\n",
       "      <td>여자</td>\n",
       "      <td>대학생</td>\n",
       "      <td>23</td>\n",
       "      <td>0.700397</td>\n",
       "      <td>-0.338688</td>\n",
       "    </tr>\n",
       "    <tr>\n",
       "      <th>2</th>\n",
       "      <td>3</td>\n",
       "      <td>남자</td>\n",
       "      <td>대학생</td>\n",
       "      <td>23</td>\n",
       "      <td>-0.194993</td>\n",
       "      <td>0.750929</td>\n",
       "    </tr>\n",
       "    <tr>\n",
       "      <th>3</th>\n",
       "      <td>4</td>\n",
       "      <td>여자</td>\n",
       "      <td>고졸</td>\n",
       "      <td>20</td>\n",
       "      <td>1.201798</td>\n",
       "      <td>-2.202339</td>\n",
       "    </tr>\n",
       "    <tr>\n",
       "      <th>4</th>\n",
       "      <td>5</td>\n",
       "      <td>남자</td>\n",
       "      <td>대졸이상</td>\n",
       "      <td>22</td>\n",
       "      <td>0.144357</td>\n",
       "      <td>-0.175068</td>\n",
       "    </tr>\n",
       "  </tbody>\n",
       "</table>\n",
       "</div>"
      ],
      "text/plain": [
       "   id sex school  age    design      flow\n",
       "0   1  남자   고졸이하   18  1.231512  2.063943\n",
       "1   2  여자    대학생   23  0.700397 -0.338688\n",
       "2   3  남자    대학생   23 -0.194993  0.750929\n",
       "3   4  여자     고졸   20  1.201798 -2.202339\n",
       "4   5  남자   대졸이상   22  0.144357 -0.175068"
      ]
     },
     "execution_count": 7,
     "metadata": {},
     "output_type": "execute_result"
    }
   ],
   "source": [
    "online_df['sex'] = online_df['sex'].replace ([1,2], ['남자','여자'])\n",
    "online_df['school'].replace({1:'고졸이하', 2:'고졸', 3:'대학생',4: '대졸이상' }, inplace=True)\n",
    "\n",
    "online_df.head()"
   ]
  },
  {
   "cell_type": "code",
   "execution_count": 8,
   "id": "b90a8f98-14a2-4fd1-80b2-739003709ce0",
   "metadata": {},
   "outputs": [
    {
     "data": {
      "text/plain": [
       "id          int64\n",
       "sex        object\n",
       "school     object\n",
       "age         int64\n",
       "design    float64\n",
       "flow      float64\n",
       "dtype: object"
      ]
     },
     "execution_count": 8,
     "metadata": {},
     "output_type": "execute_result"
    }
   ],
   "source": [
    "online_df.dtypes"
   ]
  },
  {
   "cell_type": "code",
   "execution_count": 9,
   "id": "dafc4b8a-0fda-45c6-8827-012f24314e09",
   "metadata": {},
   "outputs": [],
   "source": [
    "# datatype을 categroy로 변경\n",
    "online_df['sex'] = online_df['sex'].astype('category')\n",
    "online_df['school'] = online_df['school'].astype('category')"
   ]
  },
  {
   "cell_type": "code",
   "execution_count": 10,
   "id": "22de1dea-e42e-4bad-ba1a-3c6b710e04b3",
   "metadata": {},
   "outputs": [
    {
     "data": {
      "text/plain": [
       "id           int64\n",
       "sex       category\n",
       "school    category\n",
       "age          int64\n",
       "design     float64\n",
       "flow       float64\n",
       "dtype: object"
      ]
     },
     "execution_count": 10,
     "metadata": {},
     "output_type": "execute_result"
    }
   ],
   "source": [
    "online_df.dtypes"
   ]
  },
  {
   "cell_type": "markdown",
   "id": "8a0c4434-4072-4999-b893-f5f376f43a4c",
   "metadata": {},
   "source": [
    "## 3.범주형 자료를 분석하세요."
   ]
  },
  {
   "cell_type": "markdown",
   "id": "28615177-e22e-4518-a058-1accf65a7b13",
   "metadata": {},
   "source": [
    "### Q1.나이(age)의 기초통계분석(rstatix), 히스토그램(bins=10), 상자도표"
   ]
  },
  {
   "cell_type": "code",
   "execution_count": 11,
   "id": "4d730bef-fbb7-481b-964f-4d057fbb34b3",
   "metadata": {},
   "outputs": [
    {
     "data": {
      "text/html": [
       "<div>\n",
       "<style scoped>\n",
       "    .dataframe tbody tr th:only-of-type {\n",
       "        vertical-align: middle;\n",
       "    }\n",
       "\n",
       "    .dataframe tbody tr th {\n",
       "        vertical-align: top;\n",
       "    }\n",
       "\n",
       "    .dataframe thead th {\n",
       "        text-align: right;\n",
       "    }\n",
       "</style>\n",
       "<table border=\"1\" class=\"dataframe\">\n",
       "  <thead>\n",
       "    <tr style=\"text-align: right;\">\n",
       "      <th></th>\n",
       "      <th>count</th>\n",
       "      <th>mean</th>\n",
       "      <th>std</th>\n",
       "      <th>min</th>\n",
       "      <th>25%</th>\n",
       "      <th>50%</th>\n",
       "      <th>75%</th>\n",
       "      <th>max</th>\n",
       "      <th>skew</th>\n",
       "      <th>kurtosis</th>\n",
       "    </tr>\n",
       "  </thead>\n",
       "  <tbody>\n",
       "    <tr>\n",
       "      <th>age</th>\n",
       "      <td>175.0</td>\n",
       "      <td>28.565714</td>\n",
       "      <td>9.462265</td>\n",
       "      <td>17.0</td>\n",
       "      <td>21.5</td>\n",
       "      <td>26.0</td>\n",
       "      <td>34.0</td>\n",
       "      <td>60.0</td>\n",
       "      <td>1.143347</td>\n",
       "      <td>0.926096</td>\n",
       "    </tr>\n",
       "  </tbody>\n",
       "</table>\n",
       "</div>"
      ],
      "text/plain": [
       "     count       mean       std   min   25%   50%   75%   max      skew  \\\n",
       "age  175.0  28.565714  9.462265  17.0  21.5  26.0  34.0  60.0  1.143347   \n",
       "\n",
       "     kurtosis  \n",
       "age  0.926096  "
      ]
     },
     "execution_count": 11,
     "metadata": {},
     "output_type": "execute_result"
    }
   ],
   "source": [
    "# table로 저장\n",
    "age_df = pd.DataFrame(online_df.age.describe()).T\n",
    "age_df[\"skew\"] = online_df.age.skew()\n",
    "age_df[\"kurtosis\"] = online_df.age.kurtosis()\n",
    "age_df"
   ]
  },
  {
   "cell_type": "code",
   "execution_count": 12,
   "id": "2178ecc2-5e97-4aba-ba31-6d5ded42277e",
   "metadata": {},
   "outputs": [
    {
     "data": {
      "image/png": "[encoded data removed]",
      "text/plain": [
       "<Figure size 1000x500 with 2 Axes>"
      ]
     },
     "metadata": {},
     "output_type": "display_data"
    }
   ],
   "source": [
    "fig, ax = plt.subplots(1, 2, figsize = (10,5))\n",
    "fig.suptitle(\"나이(age) 히스토그램\")\n",
    "sns.histplot(x = \"age\",\n",
    "             data = online_df,\n",
    "             ax = ax[0])\n",
    "ax[0].set(title = \"나이(age) 상자도표\")\n",
    "sns.boxplot(y = \"age\",\n",
    "            data = online_df,\n",
    "            ax = ax[1])\n",
    "ax[1].set(title = \"나이(age) 히스토그램\")\n",
    "plt.show()"
   ]
  },
  {
   "cell_type": "markdown",
   "id": "ba95baed-ab0c-4f9c-94a7-ec5aed3a7902",
   "metadata": {},
   "source": [
    "### Q2.age의 이상치 제거(±3.0 이상만 제거)"
   ]
  },
  {
   "cell_type": "code",
   "execution_count": 13,
   "id": "22b535f1-c334-47a1-b66a-27a62c23997a",
   "metadata": {},
   "outputs": [
    {
     "name": "stdout",
     "output_type": "stream",
     "text": [
      "(array([  7,  10,  16,  82,  86, 147], dtype=int64),)\n"
     ]
    }
   ],
   "source": [
    "print(np.where(online_df['age'] > 50))"
   ]
  },
  {
   "cell_type": "code",
   "execution_count": 14,
   "id": "8812c53a-ec98-4d7f-85d9-42558d29c902",
   "metadata": {},
   "outputs": [
    {
     "name": "stdout",
     "output_type": "stream",
     "text": [
      "12.5\n",
      "2.75\n",
      "52.75\n"
     ]
    }
   ],
   "source": [
    "# IRQ 및 outlier 확인\n",
    "# IQR = Q3 - Q1\n",
    "# from scipy.stats import iqr\n",
    "q1 = online_df['age'].quantile(0.25)\n",
    "q3 = online_df['age'].quantile(0.75)\n",
    "\n",
    "iqr = iqr(online_df['age'])\n",
    "\n",
    "lower = q1 - 1.5 * iqr\n",
    "upper = q3 + 1.5 * iqr\n",
    "\n",
    "print(iqr)\n",
    "print(lower)\n",
    "print(upper)"
   ]
  },
  {
   "cell_type": "code",
   "execution_count": 15,
   "id": "3a66dbca-1707-4b0e-be1a-ecb9d2e430ce",
   "metadata": {},
   "outputs": [
    {
     "name": "stdout",
     "output_type": "stream",
     "text": [
      "[  7  10  16  82  86 147]\n",
      "[]\n"
     ]
    }
   ],
   "source": [
    "# 이상치 확인\n",
    "upper_array = np.where(online_df['age'] >= upper)[0]\n",
    "lower_array = np.where(online_df['age'] <= lower)[0]\n",
    "print(upper_array)\n",
    "print(lower_array)"
   ]
  },
  {
   "cell_type": "code",
   "execution_count": 16,
   "id": "cd3713bc-12c4-4664-a642-6ceea1a42687",
   "metadata": {},
   "outputs": [],
   "source": [
    "# 이상치 제거\n",
    "online_df.drop(index = upper_array, inplace = True)\n",
    "online_df.drop(index = lower_array, inplace = True)"
   ]
  },
  {
   "cell_type": "code",
   "execution_count": 17,
   "id": "9ebdecf0-b100-420f-b2c8-ce1b93ebe69e",
   "metadata": {},
   "outputs": [
    {
     "data": {
      "text/plain": [
       "(169, 6)"
      ]
     },
     "execution_count": 17,
     "metadata": {},
     "output_type": "execute_result"
    }
   ],
   "source": [
    "online_df.shape"
   ]
  },
  {
   "cell_type": "markdown",
   "id": "a95b46d4-fe66-45d2-9b2a-8989b59ea28d",
   "metadata": {},
   "source": [
    "### Q3.age를 범주형으로 변환(10대, 20대, 30대 등으로 구분)\n",
    "- 예제: 50세\n",
    "- [ : <= , >=\n",
    "- ( : < , >\n",
    "- right = False: 45 <= x < 50 (~미만) [50, 55)\n",
    "- right = True(default): 45 < x <= 50 (~이하) (45, 50]"
   ]
  },
  {
   "cell_type": "code",
   "execution_count": 18,
   "id": "cf69d468-7fa2-4abc-bcc0-552d128ea007",
   "metadata": {},
   "outputs": [
    {
     "data": {
      "text/plain": [
       "50"
      ]
     },
     "execution_count": 18,
     "metadata": {},
     "output_type": "execute_result"
    }
   ],
   "source": [
    "online_df.age.max()"
   ]
  },
  {
   "cell_type": "code",
   "execution_count": 19,
   "id": "de8484d0-7dc2-434d-8f33-2b1be1fae437",
   "metadata": {},
   "outputs": [
    {
     "data": {
      "text/html": [
       "<div>\n",
       "<style scoped>\n",
       "    .dataframe tbody tr th:only-of-type {\n",
       "        vertical-align: middle;\n",
       "    }\n",
       "\n",
       "    .dataframe tbody tr th {\n",
       "        vertical-align: top;\n",
       "    }\n",
       "\n",
       "    .dataframe thead th {\n",
       "        text-align: right;\n",
       "    }\n",
       "</style>\n",
       "<table border=\"1\" class=\"dataframe\">\n",
       "  <thead>\n",
       "    <tr style=\"text-align: right;\">\n",
       "      <th></th>\n",
       "      <th>id</th>\n",
       "      <th>sex</th>\n",
       "      <th>school</th>\n",
       "      <th>age</th>\n",
       "      <th>design</th>\n",
       "      <th>flow</th>\n",
       "      <th>age_c</th>\n",
       "    </tr>\n",
       "  </thead>\n",
       "  <tbody>\n",
       "    <tr>\n",
       "      <th>0</th>\n",
       "      <td>1</td>\n",
       "      <td>남자</td>\n",
       "      <td>고졸이하</td>\n",
       "      <td>18</td>\n",
       "      <td>1.231512</td>\n",
       "      <td>2.063943</td>\n",
       "      <td>~20미만</td>\n",
       "    </tr>\n",
       "    <tr>\n",
       "      <th>1</th>\n",
       "      <td>2</td>\n",
       "      <td>여자</td>\n",
       "      <td>대학생</td>\n",
       "      <td>23</td>\n",
       "      <td>0.700397</td>\n",
       "      <td>-0.338688</td>\n",
       "      <td>20~30미만</td>\n",
       "    </tr>\n",
       "    <tr>\n",
       "      <th>2</th>\n",
       "      <td>3</td>\n",
       "      <td>남자</td>\n",
       "      <td>대학생</td>\n",
       "      <td>23</td>\n",
       "      <td>-0.194993</td>\n",
       "      <td>0.750929</td>\n",
       "      <td>20~30미만</td>\n",
       "    </tr>\n",
       "    <tr>\n",
       "      <th>3</th>\n",
       "      <td>4</td>\n",
       "      <td>여자</td>\n",
       "      <td>고졸</td>\n",
       "      <td>20</td>\n",
       "      <td>1.201798</td>\n",
       "      <td>-2.202339</td>\n",
       "      <td>20~30미만</td>\n",
       "    </tr>\n",
       "    <tr>\n",
       "      <th>4</th>\n",
       "      <td>5</td>\n",
       "      <td>남자</td>\n",
       "      <td>대졸이상</td>\n",
       "      <td>22</td>\n",
       "      <td>0.144357</td>\n",
       "      <td>-0.175068</td>\n",
       "      <td>20~30미만</td>\n",
       "    </tr>\n",
       "    <tr>\n",
       "      <th>5</th>\n",
       "      <td>6</td>\n",
       "      <td>남자</td>\n",
       "      <td>대졸이상</td>\n",
       "      <td>24</td>\n",
       "      <td>-0.825783</td>\n",
       "      <td>-0.338688</td>\n",
       "      <td>20~30미만</td>\n",
       "    </tr>\n",
       "    <tr>\n",
       "      <th>6</th>\n",
       "      <td>7</td>\n",
       "      <td>남자</td>\n",
       "      <td>고졸</td>\n",
       "      <td>21</td>\n",
       "      <td>-0.447367</td>\n",
       "      <td>0.750929</td>\n",
       "      <td>20~30미만</td>\n",
       "    </tr>\n",
       "    <tr>\n",
       "      <th>8</th>\n",
       "      <td>9</td>\n",
       "      <td>여자</td>\n",
       "      <td>고졸</td>\n",
       "      <td>25</td>\n",
       "      <td>0.334876</td>\n",
       "      <td>-0.338688</td>\n",
       "      <td>20~30미만</td>\n",
       "    </tr>\n",
       "    <tr>\n",
       "      <th>9</th>\n",
       "      <td>10</td>\n",
       "      <td>남자</td>\n",
       "      <td>대학생</td>\n",
       "      <td>20</td>\n",
       "      <td>-1.665145</td>\n",
       "      <td>-1.112722</td>\n",
       "      <td>20~30미만</td>\n",
       "    </tr>\n",
       "    <tr>\n",
       "      <th>11</th>\n",
       "      <td>12</td>\n",
       "      <td>여자</td>\n",
       "      <td>고졸</td>\n",
       "      <td>30</td>\n",
       "      <td>-0.343561</td>\n",
       "      <td>0.750929</td>\n",
       "      <td>30~40미만</td>\n",
       "    </tr>\n",
       "  </tbody>\n",
       "</table>\n",
       "</div>"
      ],
      "text/plain": [
       "    id sex school  age    design      flow    age_c\n",
       "0    1  남자   고졸이하   18  1.231512  2.063943    ~20미만\n",
       "1    2  여자    대학생   23  0.700397 -0.338688  20~30미만\n",
       "2    3  남자    대학생   23 -0.194993  0.750929  20~30미만\n",
       "3    4  여자     고졸   20  1.201798 -2.202339  20~30미만\n",
       "4    5  남자   대졸이상   22  0.144357 -0.175068  20~30미만\n",
       "5    6  남자   대졸이상   24 -0.825783 -0.338688  20~30미만\n",
       "6    7  남자     고졸   21 -0.447367  0.750929  20~30미만\n",
       "8    9  여자     고졸   25  0.334876 -0.338688  20~30미만\n",
       "9   10  남자    대학생   20 -1.665145 -1.112722  20~30미만\n",
       "11  12  여자     고졸   30 -0.343561  0.750929  30~40미만"
      ]
     },
     "execution_count": 19,
     "metadata": {},
     "output_type": "execute_result"
    }
   ],
   "source": [
    "bins = [0, 20, 30, 40, 60]\n",
    "label = [\"~20미만\", \"20~30미만\", \"30~40미만\", \"40이상~\"]\n",
    "online_df['age_c'] = pd.cut(x = online_df['age'], \n",
    "                            bins = bins,\n",
    "                            labels = label,\n",
    "                            right = False)\n",
    "online_df.head(10)"
   ]
  },
  {
   "cell_type": "code",
   "execution_count": 20,
   "id": "112259cc-9591-4978-99f6-b939cba7640b",
   "metadata": {},
   "outputs": [
    {
     "data": {
      "image/png": "[encoded data removed]",
      "text/plain": [
       "<Figure size 500x500 with 1 Axes>"
      ]
     },
     "metadata": {},
     "output_type": "display_data"
    }
   ],
   "source": [
    "# 범주형 변수(막대그래프)\n",
    "g = sns.catplot(data = online_df,\n",
    "                x = \"age_c\",\n",
    "                kind = \"count\")\n",
    "g.set(title = \"나이 막대그래프\",\n",
    "      xlabel = \"나이\",\n",
    "      ylabel = \"개수\")\n",
    "plt.show()"
   ]
  },
  {
   "cell_type": "markdown",
   "id": "8e5ce68e-3fcf-43c7-8bc9-2e2e2ee31720",
   "metadata": {},
   "source": [
    "### Q4.성별에 따른 age의 점수를 구하고, histgram, box plot 그리기"
   ]
  },
  {
   "cell_type": "code",
   "execution_count": 21,
   "id": "7d35adb9-fc39-4e3e-b151-38ecf299682c",
   "metadata": {},
   "outputs": [
    {
     "data": {
      "text/html": [
       "<div>\n",
       "<style scoped>\n",
       "    .dataframe tbody tr th:only-of-type {\n",
       "        vertical-align: middle;\n",
       "    }\n",
       "\n",
       "    .dataframe tbody tr th {\n",
       "        vertical-align: top;\n",
       "    }\n",
       "\n",
       "    .dataframe thead th {\n",
       "        text-align: right;\n",
       "    }\n",
       "</style>\n",
       "<table border=\"1\" class=\"dataframe\">\n",
       "  <thead>\n",
       "    <tr style=\"text-align: right;\">\n",
       "      <th></th>\n",
       "      <th>count</th>\n",
       "      <th>mean</th>\n",
       "      <th>std</th>\n",
       "      <th>min</th>\n",
       "      <th>25%</th>\n",
       "      <th>50%</th>\n",
       "      <th>75%</th>\n",
       "      <th>max</th>\n",
       "    </tr>\n",
       "    <tr>\n",
       "      <th>sex</th>\n",
       "      <th></th>\n",
       "      <th></th>\n",
       "      <th></th>\n",
       "      <th></th>\n",
       "      <th></th>\n",
       "      <th></th>\n",
       "      <th></th>\n",
       "      <th></th>\n",
       "    </tr>\n",
       "  </thead>\n",
       "  <tbody>\n",
       "    <tr>\n",
       "      <th>남자</th>\n",
       "      <td>100.0</td>\n",
       "      <td>25.43</td>\n",
       "      <td>6.76</td>\n",
       "      <td>17.0</td>\n",
       "      <td>21.0</td>\n",
       "      <td>24.0</td>\n",
       "      <td>29.0</td>\n",
       "      <td>46.0</td>\n",
       "    </tr>\n",
       "    <tr>\n",
       "      <th>여자</th>\n",
       "      <td>69.0</td>\n",
       "      <td>30.74</td>\n",
       "      <td>8.77</td>\n",
       "      <td>17.0</td>\n",
       "      <td>24.0</td>\n",
       "      <td>31.0</td>\n",
       "      <td>37.0</td>\n",
       "      <td>50.0</td>\n",
       "    </tr>\n",
       "  </tbody>\n",
       "</table>\n",
       "</div>"
      ],
      "text/plain": [
       "     count   mean   std   min   25%   50%   75%   max\n",
       "sex                                                  \n",
       "남자   100.0  25.43  6.76  17.0  21.0  24.0  29.0  46.0\n",
       "여자    69.0  30.74  8.77  17.0  24.0  31.0  37.0  50.0"
      ]
     },
     "execution_count": 21,
     "metadata": {},
     "output_type": "execute_result"
    }
   ],
   "source": [
    "online_df.groupby('sex')[\"age\"].describe().round(2)"
   ]
  },
  {
   "cell_type": "code",
   "execution_count": 22,
   "id": "15151ba0-4512-45f9-b082-76e37f18dd51",
   "metadata": {},
   "outputs": [
    {
     "data": {
      "text/html": [
       "<div>\n",
       "<style scoped>\n",
       "    .dataframe tbody tr th:only-of-type {\n",
       "        vertical-align: middle;\n",
       "    }\n",
       "\n",
       "    .dataframe tbody tr th {\n",
       "        vertical-align: top;\n",
       "    }\n",
       "\n",
       "    .dataframe thead tr th {\n",
       "        text-align: left;\n",
       "    }\n",
       "\n",
       "    .dataframe thead tr:last-of-type th {\n",
       "        text-align: right;\n",
       "    }\n",
       "</style>\n",
       "<table border=\"1\" class=\"dataframe\">\n",
       "  <thead>\n",
       "    <tr>\n",
       "      <th></th>\n",
       "      <th colspan=\"7\" halign=\"left\">age</th>\n",
       "    </tr>\n",
       "    <tr>\n",
       "      <th></th>\n",
       "      <th>count</th>\n",
       "      <th>mean</th>\n",
       "      <th>std</th>\n",
       "      <th>min</th>\n",
       "      <th>max</th>\n",
       "      <th>median</th>\n",
       "      <th>skew</th>\n",
       "    </tr>\n",
       "    <tr>\n",
       "      <th>sex</th>\n",
       "      <th></th>\n",
       "      <th></th>\n",
       "      <th></th>\n",
       "      <th></th>\n",
       "      <th></th>\n",
       "      <th></th>\n",
       "      <th></th>\n",
       "    </tr>\n",
       "  </thead>\n",
       "  <tbody>\n",
       "    <tr>\n",
       "      <th>남자</th>\n",
       "      <td>100</td>\n",
       "      <td>25.43</td>\n",
       "      <td>6.76</td>\n",
       "      <td>17</td>\n",
       "      <td>46</td>\n",
       "      <td>24.0</td>\n",
       "      <td>1.31</td>\n",
       "    </tr>\n",
       "    <tr>\n",
       "      <th>여자</th>\n",
       "      <td>69</td>\n",
       "      <td>30.74</td>\n",
       "      <td>8.77</td>\n",
       "      <td>17</td>\n",
       "      <td>50</td>\n",
       "      <td>31.0</td>\n",
       "      <td>0.29</td>\n",
       "    </tr>\n",
       "  </tbody>\n",
       "</table>\n",
       "</div>"
      ],
      "text/plain": [
       "      age                                  \n",
       "    count   mean   std min max median  skew\n",
       "sex                                        \n",
       "남자    100  25.43  6.76  17  46   24.0  1.31\n",
       "여자     69  30.74  8.77  17  50   31.0  0.29"
      ]
     },
     "execution_count": 22,
     "metadata": {},
     "output_type": "execute_result"
    }
   ],
   "source": [
    "online_df.groupby('sex') \\\n",
    "    .agg({\"age\": [\"count\", \"mean\", \"std\", \"min\", \"max\", \"median\", \"skew\"]}) \\\n",
    "    .round(2) # groupby에서는 kurtosis 지원x"
   ]
  },
  {
   "cell_type": "code",
   "execution_count": 23,
   "id": "1c7277da-0659-4319-9adc-76cbda1308f4",
   "metadata": {},
   "outputs": [
    {
     "data": {
      "image/png": "[encoded data removed]",
      "text/plain": [
       "<Figure size 1000x500 with 2 Axes>"
      ]
     },
     "metadata": {},
     "output_type": "display_data"
    }
   ],
   "source": [
    "fig, ax = plt.subplots(1, 2, figsize = (10,5))\n",
    "fig.suptitle(\"나이(age) 히스토그램\")\n",
    "sns.histplot(x = \"age\",\n",
    "             hue = \"sex\",\n",
    "             data = online_df,\n",
    "             ax = ax[0])\n",
    "ax[0].set(title = \"나이(age) 상자도표\")\n",
    "sns.boxplot(x = \"sex\",\n",
    "            y = \"age\",\n",
    "            data = online_df,\n",
    "            ax = ax[1])\n",
    "ax[1].set(title = \"나이(age) 히스토그램\")\n",
    "plt.show()"
   ]
  },
  {
   "attachments": {},
   "cell_type": "markdown",
   "id": "f4ae78a3-f6a4-4908-878b-c116aae2cd53",
   "metadata": {},
   "source": [
    "### Q5.Design과 Flow의 값 구하고, 산점도로 표시\n"
   ]
  },
  {
   "cell_type": "code",
   "execution_count": 24,
   "id": "429c9f14-d742-4250-9312-9034a310c54b",
   "metadata": {},
   "outputs": [
    {
     "data": {
      "text/html": [
       "<div>\n",
       "<style scoped>\n",
       "    .dataframe tbody tr th:only-of-type {\n",
       "        vertical-align: middle;\n",
       "    }\n",
       "\n",
       "    .dataframe tbody tr th {\n",
       "        vertical-align: top;\n",
       "    }\n",
       "\n",
       "    .dataframe thead th {\n",
       "        text-align: right;\n",
       "    }\n",
       "</style>\n",
       "<table border=\"1\" class=\"dataframe\">\n",
       "  <thead>\n",
       "    <tr style=\"text-align: right;\">\n",
       "      <th></th>\n",
       "      <th>count</th>\n",
       "      <th>mean</th>\n",
       "      <th>std</th>\n",
       "      <th>min</th>\n",
       "      <th>25%</th>\n",
       "      <th>50%</th>\n",
       "      <th>75%</th>\n",
       "      <th>max</th>\n",
       "    </tr>\n",
       "  </thead>\n",
       "  <tbody>\n",
       "    <tr>\n",
       "      <th>design</th>\n",
       "      <td>169.0</td>\n",
       "      <td>0.02</td>\n",
       "      <td>1.00</td>\n",
       "      <td>-3.01</td>\n",
       "      <td>-0.52</td>\n",
       "      <td>0.03</td>\n",
       "      <td>0.67</td>\n",
       "      <td>2.56</td>\n",
       "    </tr>\n",
       "    <tr>\n",
       "      <th>flow</th>\n",
       "      <td>169.0</td>\n",
       "      <td>0.04</td>\n",
       "      <td>0.98</td>\n",
       "      <td>-3.29</td>\n",
       "      <td>-0.34</td>\n",
       "      <td>-0.18</td>\n",
       "      <td>0.75</td>\n",
       "      <td>2.61</td>\n",
       "    </tr>\n",
       "  </tbody>\n",
       "</table>\n",
       "</div>"
      ],
      "text/plain": [
       "        count  mean   std   min   25%   50%   75%   max\n",
       "design  169.0  0.02  1.00 -3.01 -0.52  0.03  0.67  2.56\n",
       "flow    169.0  0.04  0.98 -3.29 -0.34 -0.18  0.75  2.61"
      ]
     },
     "execution_count": 24,
     "metadata": {},
     "output_type": "execute_result"
    }
   ],
   "source": [
    "num_feature = ['design', 'flow']\n",
    "online_df[num_feature].describe().T.round(2)"
   ]
  },
  {
   "cell_type": "code",
   "execution_count": 25,
   "id": "50ff0451-c266-40e4-8910-1deef50c880f",
   "metadata": {},
   "outputs": [
    {
     "data": {
      "text/html": [
       "<div>\n",
       "<style scoped>\n",
       "    .dataframe tbody tr th:only-of-type {\n",
       "        vertical-align: middle;\n",
       "    }\n",
       "\n",
       "    .dataframe tbody tr th {\n",
       "        vertical-align: top;\n",
       "    }\n",
       "\n",
       "    .dataframe thead th {\n",
       "        text-align: right;\n",
       "    }\n",
       "</style>\n",
       "<table border=\"1\" class=\"dataframe\">\n",
       "  <thead>\n",
       "    <tr style=\"text-align: right;\">\n",
       "      <th></th>\n",
       "      <th>count</th>\n",
       "      <th>mean</th>\n",
       "      <th>std</th>\n",
       "      <th>min</th>\n",
       "      <th>max</th>\n",
       "      <th>median</th>\n",
       "      <th>skew</th>\n",
       "      <th>kurtosis</th>\n",
       "    </tr>\n",
       "  </thead>\n",
       "  <tbody>\n",
       "    <tr>\n",
       "      <th>design</th>\n",
       "      <td>169.0</td>\n",
       "      <td>0.022</td>\n",
       "      <td>0.999</td>\n",
       "      <td>-3.007</td>\n",
       "      <td>2.561</td>\n",
       "      <td>0.034</td>\n",
       "      <td>-0.100</td>\n",
       "      <td>0.247</td>\n",
       "    </tr>\n",
       "    <tr>\n",
       "      <th>flow</th>\n",
       "      <td>169.0</td>\n",
       "      <td>0.038</td>\n",
       "      <td>0.978</td>\n",
       "      <td>-3.292</td>\n",
       "      <td>2.615</td>\n",
       "      <td>-0.175</td>\n",
       "      <td>-0.314</td>\n",
       "      <td>0.393</td>\n",
       "    </tr>\n",
       "  </tbody>\n",
       "</table>\n",
       "</div>"
      ],
      "text/plain": [
       "        count   mean    std    min    max  median   skew  kurtosis\n",
       "design  169.0  0.022  0.999 -3.007  2.561   0.034 -0.100     0.247\n",
       "flow    169.0  0.038  0.978 -3.292  2.615  -0.175 -0.314     0.393"
      ]
     },
     "execution_count": 25,
     "metadata": {},
     "output_type": "execute_result"
    }
   ],
   "source": [
    "num_feature = ['design', 'flow']\n",
    "online_df[num_feature].agg([\"count\", \"mean\", \"std\", \"min\", \"max\", \"median\", \"skew\", \"kurtosis\"]).T.round(3)"
   ]
  },
  {
   "cell_type": "markdown",
   "id": "a0264eed-225f-4e98-8d17-53dd0fe68be5",
   "metadata": {},
   "source": [
    "### Q6.성별에 따른 Design과 Flow의 값 구하고, 산점도로 표시"
   ]
  },
  {
   "cell_type": "code",
   "execution_count": 26,
   "id": "c5090e13-b8e1-4c86-90df-60f59cdcfd1b",
   "metadata": {},
   "outputs": [
    {
     "data": {
      "text/html": [
       "<div>\n",
       "<style scoped>\n",
       "    .dataframe tbody tr th:only-of-type {\n",
       "        vertical-align: middle;\n",
       "    }\n",
       "\n",
       "    .dataframe tbody tr th {\n",
       "        vertical-align: top;\n",
       "    }\n",
       "\n",
       "    .dataframe thead th {\n",
       "        text-align: right;\n",
       "    }\n",
       "</style>\n",
       "<table border=\"1\" class=\"dataframe\">\n",
       "  <thead>\n",
       "    <tr style=\"text-align: right;\">\n",
       "      <th>sex</th>\n",
       "      <th>남자</th>\n",
       "      <th>여자</th>\n",
       "    </tr>\n",
       "  </thead>\n",
       "  <tbody>\n",
       "    <tr>\n",
       "      <th>design</th>\n",
       "      <td>0.02</td>\n",
       "      <td>0.02</td>\n",
       "    </tr>\n",
       "    <tr>\n",
       "      <th>flow</th>\n",
       "      <td>0.13</td>\n",
       "      <td>-0.10</td>\n",
       "    </tr>\n",
       "  </tbody>\n",
       "</table>\n",
       "</div>"
      ],
      "text/plain": [
       "sex       남자    여자\n",
       "design  0.02  0.02\n",
       "flow    0.13 -0.10"
      ]
     },
     "execution_count": 26,
     "metadata": {},
     "output_type": "execute_result"
    }
   ],
   "source": [
    "# 그룹별 분석\n",
    "online_df.groupby('sex')[num_feature].mean().T.round(2)"
   ]
  },
  {
   "cell_type": "code",
   "execution_count": 27,
   "id": "ea86f108-1a4d-40cf-afeb-9c2e55a7622d",
   "metadata": {},
   "outputs": [
    {
     "data": {
      "text/html": [
       "<div>\n",
       "<style scoped>\n",
       "    .dataframe tbody tr th:only-of-type {\n",
       "        vertical-align: middle;\n",
       "    }\n",
       "\n",
       "    .dataframe tbody tr th {\n",
       "        vertical-align: top;\n",
       "    }\n",
       "\n",
       "    .dataframe thead tr th {\n",
       "        text-align: left;\n",
       "    }\n",
       "\n",
       "    .dataframe thead tr:last-of-type th {\n",
       "        text-align: right;\n",
       "    }\n",
       "</style>\n",
       "<table border=\"1\" class=\"dataframe\">\n",
       "  <thead>\n",
       "    <tr>\n",
       "      <th></th>\n",
       "      <th colspan=\"8\" halign=\"left\">design</th>\n",
       "      <th colspan=\"8\" halign=\"left\">flow</th>\n",
       "    </tr>\n",
       "    <tr>\n",
       "      <th></th>\n",
       "      <th>count</th>\n",
       "      <th>mean</th>\n",
       "      <th>std</th>\n",
       "      <th>min</th>\n",
       "      <th>25%</th>\n",
       "      <th>50%</th>\n",
       "      <th>75%</th>\n",
       "      <th>max</th>\n",
       "      <th>count</th>\n",
       "      <th>mean</th>\n",
       "      <th>std</th>\n",
       "      <th>min</th>\n",
       "      <th>25%</th>\n",
       "      <th>50%</th>\n",
       "      <th>75%</th>\n",
       "      <th>max</th>\n",
       "    </tr>\n",
       "    <tr>\n",
       "      <th>sex</th>\n",
       "      <th></th>\n",
       "      <th></th>\n",
       "      <th></th>\n",
       "      <th></th>\n",
       "      <th></th>\n",
       "      <th></th>\n",
       "      <th></th>\n",
       "      <th></th>\n",
       "      <th></th>\n",
       "      <th></th>\n",
       "      <th></th>\n",
       "      <th></th>\n",
       "      <th></th>\n",
       "      <th></th>\n",
       "      <th></th>\n",
       "      <th></th>\n",
       "    </tr>\n",
       "  </thead>\n",
       "  <tbody>\n",
       "    <tr>\n",
       "      <th>남자</th>\n",
       "      <td>100.0</td>\n",
       "      <td>0.02</td>\n",
       "      <td>1.03</td>\n",
       "      <td>-3.01</td>\n",
       "      <td>-0.60</td>\n",
       "      <td>0.01</td>\n",
       "      <td>0.73</td>\n",
       "      <td>2.55</td>\n",
       "      <td>100.0</td>\n",
       "      <td>0.13</td>\n",
       "      <td>1.01</td>\n",
       "      <td>-3.29</td>\n",
       "      <td>-0.34</td>\n",
       "      <td>0.05</td>\n",
       "      <td>0.75</td>\n",
       "      <td>2.61</td>\n",
       "    </tr>\n",
       "    <tr>\n",
       "      <th>여자</th>\n",
       "      <td>69.0</td>\n",
       "      <td>0.02</td>\n",
       "      <td>0.96</td>\n",
       "      <td>-2.49</td>\n",
       "      <td>-0.49</td>\n",
       "      <td>0.04</td>\n",
       "      <td>0.61</td>\n",
       "      <td>2.56</td>\n",
       "      <td>69.0</td>\n",
       "      <td>-0.10</td>\n",
       "      <td>0.93</td>\n",
       "      <td>-2.74</td>\n",
       "      <td>-0.64</td>\n",
       "      <td>-0.34</td>\n",
       "      <td>0.75</td>\n",
       "      <td>2.08</td>\n",
       "    </tr>\n",
       "  </tbody>\n",
       "</table>\n",
       "</div>"
      ],
      "text/plain": [
       "    design                                             flow                    \\\n",
       "     count  mean   std   min   25%   50%   75%   max  count  mean   std   min   \n",
       "sex                                                                             \n",
       "남자   100.0  0.02  1.03 -3.01 -0.60  0.01  0.73  2.55  100.0  0.13  1.01 -3.29   \n",
       "여자    69.0  0.02  0.96 -2.49 -0.49  0.04  0.61  2.56   69.0 -0.10  0.93 -2.74   \n",
       "\n",
       "                             \n",
       "      25%   50%   75%   max  \n",
       "sex                          \n",
       "남자  -0.34  0.05  0.75  2.61  \n",
       "여자  -0.64 -0.34  0.75  2.08  "
      ]
     },
     "execution_count": 27,
     "metadata": {},
     "output_type": "execute_result"
    }
   ],
   "source": [
    "online_df.groupby('sex')[num_feature].describe().round(2)"
   ]
  },
  {
   "cell_type": "code",
   "execution_count": 28,
   "id": "28be6d91-d484-4a2c-8652-65d0348955c8",
   "metadata": {},
   "outputs": [
    {
     "name": "stdout",
     "output_type": "stream",
     "text": [
      "---- design ----\n",
      "     count  mean   std   min   25%   50%   75%   max\n",
      "sex                                                 \n",
      "남자   100.0  0.02  1.03 -3.01 -0.60  0.01  0.73  2.55\n",
      "여자    69.0  0.02  0.96 -2.49 -0.49  0.04  0.61  2.56 \n",
      "\n",
      "---- flow ----\n",
      "     count  mean   std   min   25%   50%   75%   max\n",
      "sex                                                 \n",
      "남자   100.0  0.13  1.01 -3.29 -0.34  0.05  0.75  2.61\n",
      "여자    69.0 -0.10  0.93 -2.74 -0.64 -0.34  0.75  2.08 \n",
      "\n"
     ]
    }
   ],
   "source": [
    "for num in num_feature:\n",
    "    print(\"----\", num, \"----\")\n",
    "    results = online_df.groupby('sex')[num].describe().round(2)\n",
    "    print(results, \"\\n\")"
   ]
  },
  {
   "cell_type": "code",
   "execution_count": 29,
   "id": "b0af9fd1-16c9-46f6-9352-848c3279a544",
   "metadata": {},
   "outputs": [
    {
     "data": {
      "image/png": "[encoded data removed]",
      "text/plain": [
       "<Figure size 1000x500 with 2 Axes>"
      ]
     },
     "metadata": {},
     "output_type": "display_data"
    }
   ],
   "source": [
    "fig, ax = plt.subplots(1, 2, figsize = (10,5))\n",
    "fig.suptitle(\"desing과 flow 산점도\")\n",
    "sns.scatterplot(x = \"design\",\n",
    "                y = \"flow\",\n",
    "                data = online_df,\n",
    "                ax = ax[0])\n",
    "sns.scatterplot(x = \"design\",\n",
    "                y = \"flow\",\n",
    "                hue = \"sex\",\n",
    "                data = online_df,\n",
    "                ax = ax[1])\n",
    "plt.show()"
   ]
  },
  {
   "cell_type": "code",
   "execution_count": null,
   "id": "36e2dc08-39c1-441a-aad2-6c8b04aa1cd3",
   "metadata": {},
   "outputs": [],
   "source": []
  }
 ],
 "metadata": {
  "kernelspec": {
   "display_name": "Python 3 (ipykernel)",
   "language": "python",
   "name": "python3"
  },
  "language_info": {
   "codemirror_mode": {
    "name": "ipython",
    "version": 3
   },
   "file_extension": ".py",
   "mimetype": "text/x-python",
   "name": "python",
   "nbconvert_exporter": "python",
   "pygments_lexer": "ipython3",
   "version": "3.11.5"
  }
 },
 "nbformat": 4,
 "nbformat_minor": 5
}
