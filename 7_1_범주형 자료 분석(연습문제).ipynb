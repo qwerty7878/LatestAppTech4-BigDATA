{
 "cells": [
  {
   "cell_type": "markdown",
   "metadata": {
    "id": "TwBfsoXvN7aL"
   },
   "source": [
    "# 07.범주형 자료 분석"
   ]
  },
  {
   "cell_type": "markdown",
   "metadata": {},
   "source": [
    "## 1.package 설치"
   ]
  },
  {
   "cell_type": "code",
   "execution_count": 1,
   "metadata": {},
   "outputs": [],
   "source": [
    "import numpy as np\n",
    "import pandas as pd\n",
    "import matplotlib.pyplot as plt\n",
    "import seaborn as sns"
   ]
  },
  {
   "cell_type": "code",
   "execution_count": 2,
   "metadata": {},
   "outputs": [],
   "source": [
    "# 기본세팅\n",
    "# 에러화면 세팅\n",
    "import warnings\n",
    "warnings.simplefilter(action = 'ignore', category = FutureWarning)\n",
    "warnings.simplefilter(action = 'ignore', category = UserWarning)\n",
    "\n",
    "# 테마 설정\n",
    "sns.set_theme(style = \"darkgrid\")\n",
    "\n",
    "# 한글 인식\n",
    "plt.rc('font', family='Malgun Gothic')\n",
    "plt.rcParams['axes.unicode_minus'] = False # -인식"
   ]
  },
  {
   "cell_type": "markdown",
   "metadata": {},
   "source": [
    "## 2.데이터 불러오기"
   ]
  },
  {
   "cell_type": "markdown",
   "metadata": {},
   "source": [
    "### 2.1 데이터 프레임으로 저장\r\n",
    "- 원본데이터(csv)를 dataframe 형태로 가져오기(pandas)"
   ]
  },
  {
   "cell_type": "code",
   "execution_count": 3,
   "metadata": {},
   "outputs": [
    {
     "data": {
      "text/html": [
       "<div>\n",
       "<style scoped>\n",
       "    .dataframe tbody tr th:only-of-type {\n",
       "        vertical-align: middle;\n",
       "    }\n",
       "\n",
       "    .dataframe tbody tr th {\n",
       "        vertical-align: top;\n",
       "    }\n",
       "\n",
       "    .dataframe thead th {\n",
       "        text-align: right;\n",
       "    }\n",
       "</style>\n",
       "<table border=\"1\" class=\"dataframe\">\n",
       "  <thead>\n",
       "    <tr style=\"text-align: right;\">\n",
       "      <th></th>\n",
       "      <th>id</th>\n",
       "      <th>sex</th>\n",
       "      <th>school</th>\n",
       "      <th>age</th>\n",
       "      <th>design</th>\n",
       "      <th>flow</th>\n",
       "    </tr>\n",
       "  </thead>\n",
       "  <tbody>\n",
       "    <tr>\n",
       "      <th>0</th>\n",
       "      <td>1</td>\n",
       "      <td>1</td>\n",
       "      <td>1</td>\n",
       "      <td>18</td>\n",
       "      <td>1.231512</td>\n",
       "      <td>2.063943</td>\n",
       "    </tr>\n",
       "    <tr>\n",
       "      <th>1</th>\n",
       "      <td>2</td>\n",
       "      <td>2</td>\n",
       "      <td>3</td>\n",
       "      <td>23</td>\n",
       "      <td>0.700397</td>\n",
       "      <td>-0.338688</td>\n",
       "    </tr>\n",
       "    <tr>\n",
       "      <th>2</th>\n",
       "      <td>3</td>\n",
       "      <td>1</td>\n",
       "      <td>3</td>\n",
       "      <td>23</td>\n",
       "      <td>-0.194993</td>\n",
       "      <td>0.750929</td>\n",
       "    </tr>\n",
       "    <tr>\n",
       "      <th>3</th>\n",
       "      <td>4</td>\n",
       "      <td>2</td>\n",
       "      <td>2</td>\n",
       "      <td>20</td>\n",
       "      <td>1.201798</td>\n",
       "      <td>-2.202339</td>\n",
       "    </tr>\n",
       "    <tr>\n",
       "      <th>4</th>\n",
       "      <td>5</td>\n",
       "      <td>1</td>\n",
       "      <td>4</td>\n",
       "      <td>22</td>\n",
       "      <td>0.144357</td>\n",
       "      <td>-0.175068</td>\n",
       "    </tr>\n",
       "    <tr>\n",
       "      <th>5</th>\n",
       "      <td>6</td>\n",
       "      <td>1</td>\n",
       "      <td>4</td>\n",
       "      <td>24</td>\n",
       "      <td>-0.825783</td>\n",
       "      <td>-0.338688</td>\n",
       "    </tr>\n",
       "    <tr>\n",
       "      <th>6</th>\n",
       "      <td>7</td>\n",
       "      <td>1</td>\n",
       "      <td>2</td>\n",
       "      <td>21</td>\n",
       "      <td>-0.447367</td>\n",
       "      <td>0.750929</td>\n",
       "    </tr>\n",
       "    <tr>\n",
       "      <th>7</th>\n",
       "      <td>8</td>\n",
       "      <td>2</td>\n",
       "      <td>1</td>\n",
       "      <td>60</td>\n",
       "      <td>-1.099301</td>\n",
       "      <td>-3.291956</td>\n",
       "    </tr>\n",
       "    <tr>\n",
       "      <th>8</th>\n",
       "      <td>9</td>\n",
       "      <td>2</td>\n",
       "      <td>2</td>\n",
       "      <td>25</td>\n",
       "      <td>0.334876</td>\n",
       "      <td>-0.338688</td>\n",
       "    </tr>\n",
       "    <tr>\n",
       "      <th>9</th>\n",
       "      <td>10</td>\n",
       "      <td>1</td>\n",
       "      <td>3</td>\n",
       "      <td>20</td>\n",
       "      <td>-1.665145</td>\n",
       "      <td>-1.112722</td>\n",
       "    </tr>\n",
       "  </tbody>\n",
       "</table>\n",
       "</div>"
      ],
      "text/plain": [
       "   id  sex  school  age    design      flow\n",
       "0   1    1       1   18  1.231512  2.063943\n",
       "1   2    2       3   23  0.700397 -0.338688\n",
       "2   3    1       3   23 -0.194993  0.750929\n",
       "3   4    2       2   20  1.201798 -2.202339\n",
       "4   5    1       4   22  0.144357 -0.175068\n",
       "5   6    1       4   24 -0.825783 -0.338688\n",
       "6   7    1       2   21 -0.447367  0.750929\n",
       "7   8    2       1   60 -1.099301 -3.291956\n",
       "8   9    2       2   25  0.334876 -0.338688\n",
       "9  10    1       3   20 -1.665145 -1.112722"
      ]
     },
     "execution_count": 3,
     "metadata": {},
     "output_type": "execute_result"
    }
   ],
   "source": [
    "online_df = pd.read_csv('07.online.csv', encoding=\"cp949\")\n",
    "online_df.head(10)"
   ]
  },
  {
   "cell_type": "markdown",
   "metadata": {},
   "source": [
    "### 2.2 자료구조 살펴보기"
   ]
  },
  {
   "cell_type": "code",
   "execution_count": 4,
   "metadata": {},
   "outputs": [
    {
     "name": "stdout",
     "output_type": "stream",
     "text": [
      "<class 'pandas.core.frame.DataFrame'>\n",
      "RangeIndex: 175 entries, 0 to 174\n",
      "Data columns (total 6 columns):\n",
      " #   Column  Non-Null Count  Dtype  \n",
      "---  ------  --------------  -----  \n",
      " 0   id      175 non-null    int64  \n",
      " 1   sex     175 non-null    int64  \n",
      " 2   school  175 non-null    int64  \n",
      " 3   age     175 non-null    int64  \n",
      " 4   design  175 non-null    float64\n",
      " 5   flow    175 non-null    float64\n",
      "dtypes: float64(2), int64(4)\n",
      "memory usage: 8.3 KB\n"
     ]
    }
   ],
   "source": [
    "online_df.info()"
   ]
  },
  {
   "cell_type": "code",
   "execution_count": 5,
   "metadata": {},
   "outputs": [
    {
     "data": {
      "text/plain": [
       "(175, 6)"
      ]
     },
     "execution_count": 5,
     "metadata": {},
     "output_type": "execute_result"
    }
   ],
   "source": [
    "online_df.shape"
   ]
  },
  {
   "cell_type": "code",
   "execution_count": 6,
   "metadata": {},
   "outputs": [
    {
     "data": {
      "text/plain": [
       "id          int64\n",
       "sex         int64\n",
       "school      int64\n",
       "age         int64\n",
       "design    float64\n",
       "flow      float64\n",
       "dtype: object"
      ]
     },
     "execution_count": 6,
     "metadata": {},
     "output_type": "execute_result"
    }
   ],
   "source": [
    "online_df.dtypes"
   ]
  },
  {
   "cell_type": "markdown",
   "metadata": {},
   "source": [
    "### 2.3 범주형 변수 처리\r\n",
    "- 가변수 처리시 문자로 처리를 해야 변수명 구분이 쉬움"
   ]
  },
  {
   "cell_type": "code",
   "execution_count": 7,
   "metadata": {},
   "outputs": [
    {
     "data": {
      "text/html": [
       "<div>\n",
       "<style scoped>\n",
       "    .dataframe tbody tr th:only-of-type {\n",
       "        vertical-align: middle;\n",
       "    }\n",
       "\n",
       "    .dataframe tbody tr th {\n",
       "        vertical-align: top;\n",
       "    }\n",
       "\n",
       "    .dataframe thead th {\n",
       "        text-align: right;\n",
       "    }\n",
       "</style>\n",
       "<table border=\"1\" class=\"dataframe\">\n",
       "  <thead>\n",
       "    <tr style=\"text-align: right;\">\n",
       "      <th></th>\n",
       "      <th>id</th>\n",
       "      <th>sex</th>\n",
       "      <th>school</th>\n",
       "      <th>age</th>\n",
       "      <th>design</th>\n",
       "      <th>flow</th>\n",
       "    </tr>\n",
       "  </thead>\n",
       "  <tbody>\n",
       "    <tr>\n",
       "      <th>0</th>\n",
       "      <td>1</td>\n",
       "      <td>남자</td>\n",
       "      <td>고졸이하</td>\n",
       "      <td>18</td>\n",
       "      <td>1.231512</td>\n",
       "      <td>2.063943</td>\n",
       "    </tr>\n",
       "    <tr>\n",
       "      <th>1</th>\n",
       "      <td>2</td>\n",
       "      <td>여자</td>\n",
       "      <td>대학생</td>\n",
       "      <td>23</td>\n",
       "      <td>0.700397</td>\n",
       "      <td>-0.338688</td>\n",
       "    </tr>\n",
       "    <tr>\n",
       "      <th>2</th>\n",
       "      <td>3</td>\n",
       "      <td>남자</td>\n",
       "      <td>대학생</td>\n",
       "      <td>23</td>\n",
       "      <td>-0.194993</td>\n",
       "      <td>0.750929</td>\n",
       "    </tr>\n",
       "    <tr>\n",
       "      <th>3</th>\n",
       "      <td>4</td>\n",
       "      <td>여자</td>\n",
       "      <td>고졸</td>\n",
       "      <td>20</td>\n",
       "      <td>1.201798</td>\n",
       "      <td>-2.202339</td>\n",
       "    </tr>\n",
       "    <tr>\n",
       "      <th>4</th>\n",
       "      <td>5</td>\n",
       "      <td>남자</td>\n",
       "      <td>대졸이상</td>\n",
       "      <td>22</td>\n",
       "      <td>0.144357</td>\n",
       "      <td>-0.175068</td>\n",
       "    </tr>\n",
       "  </tbody>\n",
       "</table>\n",
       "</div>"
      ],
      "text/plain": [
       "   id sex school  age    design      flow\n",
       "0   1  남자   고졸이하   18  1.231512  2.063943\n",
       "1   2  여자    대학생   23  0.700397 -0.338688\n",
       "2   3  남자    대학생   23 -0.194993  0.750929\n",
       "3   4  여자     고졸   20  1.201798 -2.202339\n",
       "4   5  남자   대졸이상   22  0.144357 -0.175068"
      ]
     },
     "execution_count": 7,
     "metadata": {},
     "output_type": "execute_result"
    }
   ],
   "source": [
    "online_df['sex'] = online_df['sex'].replace ([1,2], ['남자','여자'])\n",
    "online_df['school'].replace({1:'고졸이하', 2:'고졸', 3:'대학생',4: '대졸이상' }, inplace=True)\n",
    "\n",
    "online_df.head()"
   ]
  },
  {
   "cell_type": "code",
   "execution_count": 8,
   "metadata": {},
   "outputs": [
    {
     "data": {
      "text/plain": [
       "id          int64\n",
       "sex        object\n",
       "school     object\n",
       "age         int64\n",
       "design    float64\n",
       "flow      float64\n",
       "dtype: object"
      ]
     },
     "execution_count": 8,
     "metadata": {},
     "output_type": "execute_result"
    }
   ],
   "source": [
    "online_df.dtypes"
   ]
  },
  {
   "cell_type": "code",
   "execution_count": 9,
   "metadata": {},
   "outputs": [],
   "source": [
    "# datatype을 categroy로 변경\n",
    "online_df['sex'] = online_df['sex'].astype('category')\n",
    "online_df['school'] = online_df['school'].astype('category')"
   ]
  },
  {
   "cell_type": "code",
   "execution_count": 10,
   "metadata": {},
   "outputs": [
    {
     "data": {
      "text/plain": [
       "id           int64\n",
       "sex       category\n",
       "school    category\n",
       "age          int64\n",
       "design     float64\n",
       "flow       float64\n",
       "dtype: object"
      ]
     },
     "execution_count": 10,
     "metadata": {},
     "output_type": "execute_result"
    }
   ],
   "source": [
    "online_df.dtypes"
   ]
  },
  {
   "attachments": {},
   "cell_type": "markdown",
   "metadata": {},
   "source": [
    "## 3.범주형 자료를 분석하세요."
   ]
  },
  {
   "attachments": {},
   "cell_type": "markdown",
   "metadata": {},
   "source": [
    "### Q3.성별(sex)의 돗수분포표, 막대그래프(돗수), 막대그래프(비율)"
   ]
  },
  {
   "cell_type": "code",
   "execution_count": 11,
   "metadata": {},
   "outputs": [
    {
     "data": {
      "text/html": [
       "<div>\n",
       "<style scoped>\n",
       "    .dataframe tbody tr th:only-of-type {\n",
       "        vertical-align: middle;\n",
       "    }\n",
       "\n",
       "    .dataframe tbody tr th {\n",
       "        vertical-align: top;\n",
       "    }\n",
       "\n",
       "    .dataframe thead th {\n",
       "        text-align: right;\n",
       "    }\n",
       "</style>\n",
       "<table border=\"1\" class=\"dataframe\">\n",
       "  <thead>\n",
       "    <tr style=\"text-align: right;\">\n",
       "      <th>col_0</th>\n",
       "      <th>count</th>\n",
       "      <th>prop</th>\n",
       "      <th>cum_prop</th>\n",
       "    </tr>\n",
       "    <tr>\n",
       "      <th>sex</th>\n",
       "      <th></th>\n",
       "      <th></th>\n",
       "      <th></th>\n",
       "    </tr>\n",
       "  </thead>\n",
       "  <tbody>\n",
       "    <tr>\n",
       "      <th>남자</th>\n",
       "      <td>101</td>\n",
       "      <td>0.58</td>\n",
       "      <td>0.58</td>\n",
       "    </tr>\n",
       "    <tr>\n",
       "      <th>여자</th>\n",
       "      <td>74</td>\n",
       "      <td>0.42</td>\n",
       "      <td>1.00</td>\n",
       "    </tr>\n",
       "  </tbody>\n",
       "</table>\n",
       "</div>"
      ],
      "text/plain": [
       "col_0  count  prop  cum_prop\n",
       "sex                         \n",
       "남자       101  0.58      0.58\n",
       "여자        74  0.42      1.00"
      ]
     },
     "execution_count": 11,
     "metadata": {},
     "output_type": "execute_result"
    }
   ],
   "source": [
    "### crosstab이용\n",
    "freq_table = pd.crosstab(index = online_df[\"sex\"],  \n",
    "                         columns = ['count'])                  \n",
    "freq_table['prop'] = np.round(freq_table['count']/sum(freq_table['count']), 2)  \n",
    "freq_table['cum_prop'] = np.cumsum(freq_table['prop'])\n",
    "freq_table"
   ]
  },
  {
   "cell_type": "code",
   "execution_count": 12,
   "metadata": {
    "colab": {
     "base_uri": "https://localhost:8080/",
     "height": 467
    },
    "executionInfo": {
     "elapsed": 19,
     "status": "ok",
     "timestamp": 1682901113539,
     "user": {
      "displayName": "강서대학교이상철 교수",
      "userId": "04549640023925533802"
     },
     "user_tz": -540
    },
    "id": "4qzAYdRlN7ab",
    "outputId": "344dc7a3-a8fb-43d9-c151-15a50a661460"
   },
   "outputs": [
    {
     "data": {
      "image/png": "[encoded data removed]",
      "text/plain": [
       "<Figure size 1000x500 with 2 Axes>"
      ]
     },
     "metadata": {},
     "output_type": "display_data"
    }
   ],
   "source": [
    "fig, ax = plt.subplots(1, 2, figsize = (10,5))\n",
    "fig.suptitle(\"성별(sex) 막대그래프\")\n",
    "sns.histplot(x = \"sex\",\n",
    "             shrink = 0.7,\n",
    "             data = online_df,\n",
    "             ax = ax[0])\n",
    "ax[0].set(xlabel = \"\",\n",
    "          ylabel = \"개수\")\n",
    "sns.histplot(x = \"sex\",\n",
    "             stat = \"probability\",\n",
    "             shrink = 0.7,\n",
    "             data = online_df,\n",
    "             ax = ax[1])\n",
    "ax[1].set(xlabel = \"\",\n",
    "          ylabel = \"비율\")\n",
    "plt.show()"
   ]
  },
  {
   "attachments": {},
   "cell_type": "markdown",
   "metadata": {},
   "source": [
    "### Q4.학력(school)의 돗수분포표, 막대그래프(돗수), 막대그래프(비율)"
   ]
  },
  {
   "cell_type": "code",
   "execution_count": 13,
   "metadata": {},
   "outputs": [
    {
     "data": {
      "text/html": [
       "<div>\n",
       "<style scoped>\n",
       "    .dataframe tbody tr th:only-of-type {\n",
       "        vertical-align: middle;\n",
       "    }\n",
       "\n",
       "    .dataframe tbody tr th {\n",
       "        vertical-align: top;\n",
       "    }\n",
       "\n",
       "    .dataframe thead th {\n",
       "        text-align: right;\n",
       "    }\n",
       "</style>\n",
       "<table border=\"1\" class=\"dataframe\">\n",
       "  <thead>\n",
       "    <tr style=\"text-align: right;\">\n",
       "      <th>col_0</th>\n",
       "      <th>count</th>\n",
       "      <th>prop</th>\n",
       "      <th>cum_prop</th>\n",
       "    </tr>\n",
       "    <tr>\n",
       "      <th>school</th>\n",
       "      <th></th>\n",
       "      <th></th>\n",
       "      <th></th>\n",
       "    </tr>\n",
       "  </thead>\n",
       "  <tbody>\n",
       "    <tr>\n",
       "      <th>고졸</th>\n",
       "      <td>36</td>\n",
       "      <td>0.21</td>\n",
       "      <td>0.21</td>\n",
       "    </tr>\n",
       "    <tr>\n",
       "      <th>고졸이하</th>\n",
       "      <td>26</td>\n",
       "      <td>0.15</td>\n",
       "      <td>0.36</td>\n",
       "    </tr>\n",
       "    <tr>\n",
       "      <th>대졸이상</th>\n",
       "      <td>62</td>\n",
       "      <td>0.35</td>\n",
       "      <td>0.71</td>\n",
       "    </tr>\n",
       "    <tr>\n",
       "      <th>대학생</th>\n",
       "      <td>51</td>\n",
       "      <td>0.29</td>\n",
       "      <td>1.00</td>\n",
       "    </tr>\n",
       "  </tbody>\n",
       "</table>\n",
       "</div>"
      ],
      "text/plain": [
       "col_0   count  prop  cum_prop\n",
       "school                       \n",
       "고졸         36  0.21      0.21\n",
       "고졸이하       26  0.15      0.36\n",
       "대졸이상       62  0.35      0.71\n",
       "대학생        51  0.29      1.00"
      ]
     },
     "execution_count": 13,
     "metadata": {},
     "output_type": "execute_result"
    }
   ],
   "source": [
    "### crosstab이용\n",
    "freq_table = pd.crosstab(index = online_df[\"school\"],  \n",
    "                         columns = ['count'])                  \n",
    "freq_table['prop'] = np.round(freq_table['count']/sum(freq_table['count']), 2)  \n",
    "freq_table['cum_prop'] = np.cumsum(freq_table['prop'])\n",
    "freq_table"
   ]
  },
  {
   "cell_type": "code",
   "execution_count": 14,
   "metadata": {},
   "outputs": [
    {
     "data": {
      "image/png": "[encoded data removed]",
      "text/plain": [
       "<Figure size 1000x500 with 2 Axes>"
      ]
     },
     "metadata": {},
     "output_type": "display_data"
    }
   ],
   "source": [
    "fig, ax = plt.subplots(1, 2, figsize = (10,5))\n",
    "fig.suptitle(\"학력(school) 막대그래프\")\n",
    "sns.histplot(x = \"school\",\n",
    "             shrink = 0.7,\n",
    "             data = online_df,\n",
    "             ax = ax[0])\n",
    "ax[0].set(xlabel = \"\",\n",
    "          ylabel = \"개수\")\n",
    "sns.histplot(x = \"school\",\n",
    "             stat = \"probability\",\n",
    "             shrink = 0.7,\n",
    "             data = online_df,\n",
    "             ax = ax[1])\n",
    "ax[1].set(xlabel = \"\",\n",
    "          ylabel = \"비율\")\n",
    "plt.show()"
   ]
  },
  {
   "cell_type": "markdown",
   "metadata": {},
   "source": [
    "### Q5.성별(sex)과 학력(school)의 이원분할표, 막대그래프"
   ]
  },
  {
   "cell_type": "code",
   "execution_count": 15,
   "metadata": {},
   "outputs": [
    {
     "data": {
      "text/html": [
       "<div>\n",
       "<style scoped>\n",
       "    .dataframe tbody tr th:only-of-type {\n",
       "        vertical-align: middle;\n",
       "    }\n",
       "\n",
       "    .dataframe tbody tr th {\n",
       "        vertical-align: top;\n",
       "    }\n",
       "\n",
       "    .dataframe thead th {\n",
       "        text-align: right;\n",
       "    }\n",
       "</style>\n",
       "<table border=\"1\" class=\"dataframe\">\n",
       "  <thead>\n",
       "    <tr style=\"text-align: right;\">\n",
       "      <th></th>\n",
       "      <th>고졸</th>\n",
       "      <th>고졸이하</th>\n",
       "      <th>대졸이상</th>\n",
       "      <th>대학생</th>\n",
       "      <th>행전체</th>\n",
       "    </tr>\n",
       "  </thead>\n",
       "  <tbody>\n",
       "    <tr>\n",
       "      <th>남자</th>\n",
       "      <td>23</td>\n",
       "      <td>15</td>\n",
       "      <td>28</td>\n",
       "      <td>35</td>\n",
       "      <td>101</td>\n",
       "    </tr>\n",
       "    <tr>\n",
       "      <th>여자</th>\n",
       "      <td>13</td>\n",
       "      <td>11</td>\n",
       "      <td>34</td>\n",
       "      <td>16</td>\n",
       "      <td>74</td>\n",
       "    </tr>\n",
       "    <tr>\n",
       "      <th>열전체</th>\n",
       "      <td>36</td>\n",
       "      <td>26</td>\n",
       "      <td>62</td>\n",
       "      <td>51</td>\n",
       "      <td>175</td>\n",
       "    </tr>\n",
       "  </tbody>\n",
       "</table>\n",
       "</div>"
      ],
      "text/plain": [
       "     고졸  고졸이하  대졸이상  대학생  행전체\n",
       "남자   23    15    28   35  101\n",
       "여자   13    11    34   16   74\n",
       "열전체  36    26    62   51  175"
      ]
     },
     "execution_count": 15,
     "metadata": {},
     "output_type": "execute_result"
    }
   ],
   "source": [
    "cross_table = pd.crosstab(index = online_df[\"sex\"],  \n",
    "                          columns = online_df[\"school\"],\n",
    "                          margins = True) \n",
    "cross_table.index = [\"남자\",\"여자\", \"열전체\"]\n",
    "cross_table.columns = [\"고졸\",\"고졸이하\",\"대졸이상\",\"대학생\", \"행전체\"]\n",
    "cross_table"
   ]
  },
  {
   "cell_type": "code",
   "execution_count": 16,
   "metadata": {},
   "outputs": [
    {
     "data": {
      "text/html": [
       "<div>\n",
       "<style scoped>\n",
       "    .dataframe tbody tr th:only-of-type {\n",
       "        vertical-align: middle;\n",
       "    }\n",
       "\n",
       "    .dataframe tbody tr th {\n",
       "        vertical-align: top;\n",
       "    }\n",
       "\n",
       "    .dataframe thead th {\n",
       "        text-align: right;\n",
       "    }\n",
       "</style>\n",
       "<table border=\"1\" class=\"dataframe\">\n",
       "  <thead>\n",
       "    <tr style=\"text-align: right;\">\n",
       "      <th></th>\n",
       "      <th>고졸</th>\n",
       "      <th>고졸이하</th>\n",
       "      <th>대졸이상</th>\n",
       "      <th>대학생</th>\n",
       "      <th>행전체</th>\n",
       "    </tr>\n",
       "  </thead>\n",
       "  <tbody>\n",
       "    <tr>\n",
       "      <th>남자</th>\n",
       "      <td>0.131429</td>\n",
       "      <td>0.085714</td>\n",
       "      <td>0.160000</td>\n",
       "      <td>0.200000</td>\n",
       "      <td>0.577143</td>\n",
       "    </tr>\n",
       "    <tr>\n",
       "      <th>여자</th>\n",
       "      <td>0.074286</td>\n",
       "      <td>0.062857</td>\n",
       "      <td>0.194286</td>\n",
       "      <td>0.091429</td>\n",
       "      <td>0.422857</td>\n",
       "    </tr>\n",
       "    <tr>\n",
       "      <th>열전체</th>\n",
       "      <td>0.205714</td>\n",
       "      <td>0.148571</td>\n",
       "      <td>0.354286</td>\n",
       "      <td>0.291429</td>\n",
       "      <td>1.000000</td>\n",
       "    </tr>\n",
       "  </tbody>\n",
       "</table>\n",
       "</div>"
      ],
      "text/plain": [
       "           고졸      고졸이하      대졸이상       대학생       행전체\n",
       "남자   0.131429  0.085714  0.160000  0.200000  0.577143\n",
       "여자   0.074286  0.062857  0.194286  0.091429  0.422857\n",
       "열전체  0.205714  0.148571  0.354286  0.291429  1.000000"
      ]
     },
     "execution_count": 16,
     "metadata": {},
     "output_type": "execute_result"
    }
   ],
   "source": [
    "cross_table_prop = cross_table/cross_table.loc[\"열전체\",\"행전체\"]\n",
    "cross_table_prop"
   ]
  },
  {
   "cell_type": "code",
   "execution_count": 17,
   "metadata": {},
   "outputs": [
    {
     "data": {
      "text/html": [
       "<div>\n",
       "<style scoped>\n",
       "    .dataframe tbody tr th:only-of-type {\n",
       "        vertical-align: middle;\n",
       "    }\n",
       "\n",
       "    .dataframe tbody tr th {\n",
       "        vertical-align: top;\n",
       "    }\n",
       "\n",
       "    .dataframe thead th {\n",
       "        text-align: right;\n",
       "    }\n",
       "</style>\n",
       "<table border=\"1\" class=\"dataframe\">\n",
       "  <thead>\n",
       "    <tr style=\"text-align: right;\">\n",
       "      <th></th>\n",
       "      <th>고졸</th>\n",
       "      <th>고졸이하</th>\n",
       "      <th>대졸이상</th>\n",
       "      <th>대학생</th>\n",
       "      <th>행전체</th>\n",
       "    </tr>\n",
       "  </thead>\n",
       "  <tbody>\n",
       "    <tr>\n",
       "      <th>남자</th>\n",
       "      <td>0.638889</td>\n",
       "      <td>0.576923</td>\n",
       "      <td>0.451613</td>\n",
       "      <td>0.686275</td>\n",
       "      <td>0.577143</td>\n",
       "    </tr>\n",
       "    <tr>\n",
       "      <th>여자</th>\n",
       "      <td>0.361111</td>\n",
       "      <td>0.423077</td>\n",
       "      <td>0.548387</td>\n",
       "      <td>0.313725</td>\n",
       "      <td>0.422857</td>\n",
       "    </tr>\n",
       "    <tr>\n",
       "      <th>열전체</th>\n",
       "      <td>1.000000</td>\n",
       "      <td>1.000000</td>\n",
       "      <td>1.000000</td>\n",
       "      <td>1.000000</td>\n",
       "      <td>1.000000</td>\n",
       "    </tr>\n",
       "  </tbody>\n",
       "</table>\n",
       "</div>"
      ],
      "text/plain": [
       "           고졸      고졸이하      대졸이상       대학생       행전체\n",
       "남자   0.638889  0.576923  0.451613  0.686275  0.577143\n",
       "여자   0.361111  0.423077  0.548387  0.313725  0.422857\n",
       "열전체  1.000000  1.000000  1.000000  1.000000  1.000000"
      ]
     },
     "execution_count": 17,
     "metadata": {},
     "output_type": "execute_result"
    }
   ],
   "source": [
    "# 열비율\n",
    "cross_table/cross_table.loc[\"열전체\"]"
   ]
  },
  {
   "cell_type": "code",
   "execution_count": 18,
   "metadata": {},
   "outputs": [
    {
     "data": {
      "text/html": [
       "<div>\n",
       "<style scoped>\n",
       "    .dataframe tbody tr th:only-of-type {\n",
       "        vertical-align: middle;\n",
       "    }\n",
       "\n",
       "    .dataframe tbody tr th {\n",
       "        vertical-align: top;\n",
       "    }\n",
       "\n",
       "    .dataframe thead th {\n",
       "        text-align: right;\n",
       "    }\n",
       "</style>\n",
       "<table border=\"1\" class=\"dataframe\">\n",
       "  <thead>\n",
       "    <tr style=\"text-align: right;\">\n",
       "      <th></th>\n",
       "      <th>고졸</th>\n",
       "      <th>고졸이하</th>\n",
       "      <th>대졸이상</th>\n",
       "      <th>대학생</th>\n",
       "      <th>행전체</th>\n",
       "    </tr>\n",
       "  </thead>\n",
       "  <tbody>\n",
       "    <tr>\n",
       "      <th>남자</th>\n",
       "      <td>0.227723</td>\n",
       "      <td>0.148515</td>\n",
       "      <td>0.277228</td>\n",
       "      <td>0.346535</td>\n",
       "      <td>1.0</td>\n",
       "    </tr>\n",
       "    <tr>\n",
       "      <th>여자</th>\n",
       "      <td>0.175676</td>\n",
       "      <td>0.148649</td>\n",
       "      <td>0.459459</td>\n",
       "      <td>0.216216</td>\n",
       "      <td>1.0</td>\n",
       "    </tr>\n",
       "    <tr>\n",
       "      <th>열전체</th>\n",
       "      <td>0.205714</td>\n",
       "      <td>0.148571</td>\n",
       "      <td>0.354286</td>\n",
       "      <td>0.291429</td>\n",
       "      <td>1.0</td>\n",
       "    </tr>\n",
       "  </tbody>\n",
       "</table>\n",
       "</div>"
      ],
      "text/plain": [
       "           고졸      고졸이하      대졸이상       대학생  행전체\n",
       "남자   0.227723  0.148515  0.277228  0.346535  1.0\n",
       "여자   0.175676  0.148649  0.459459  0.216216  1.0\n",
       "열전체  0.205714  0.148571  0.354286  0.291429  1.0"
      ]
     },
     "execution_count": 18,
     "metadata": {},
     "output_type": "execute_result"
    }
   ],
   "source": [
    "# 행비율\n",
    "cross_table.div(cross_table[\"행전체\"], axis=0)"
   ]
  },
  {
   "cell_type": "code",
   "execution_count": 19,
   "metadata": {},
   "outputs": [
    {
     "data": {
      "image/png": "[encoded data removed]",
      "text/plain": [
       "<Figure size 1200x500 with 2 Axes>"
      ]
     },
     "metadata": {},
     "output_type": "display_data"
    }
   ],
   "source": [
    "fig, ax = plt.subplots(1, 2, figsize = (12,5))\n",
    "fig.suptitle(\"성별과 학력(school) 막대그래프\")\n",
    "sns.countplot(x = \"school\",\n",
    "             hue = \"sex\",\n",
    "             data = online_df,\n",
    "             ax = ax[0])\n",
    "ax[0].set(xlabel = \"\",\n",
    "          ylabel = \"개수\")\n",
    "sns.histplot(x = \"school\",\n",
    "             hue = \"sex\",\n",
    "             stat = \"probability\",\n",
    "             shrink = 0.7,\n",
    "             multiple = \"dodge\",\n",
    "             data = online_df,\n",
    "             ax = ax[1])\n",
    "ax[1].set(xlabel = \"\",\n",
    "          ylabel = \"비율\")\n",
    "plt.show()"
   ]
  },
  {
   "cell_type": "code",
   "execution_count": null,
   "metadata": {},
   "outputs": [],
   "source": []
  },
  {
   "cell_type": "code",
   "execution_count": null,
   "metadata": {},
   "outputs": [],
   "source": []
  },
  {
   "cell_type": "code",
   "execution_count": null,
   "metadata": {},
   "outputs": [],
   "source": []
  }
 ],
 "metadata": {
  "accelerator": "GPU",
  "colab": {
   "provenance": [
    {
     "file_id": "1FioGBtT4ca0ab00iVC543CJ4Ys3BxkUy",
     "timestamp": 1680492947737
    }
   ],
   "toc_visible": true
  },
  "gpuClass": "standard",
  "kernelspec": {
   "display_name": "Python 3 (ipykernel)",
   "language": "python",
   "name": "python3"
  },
  "language_info": {
   "codemirror_mode": {
    "name": "ipython",
    "version": 3
   },
   "file_extension": ".py",
   "mimetype": "text/x-python",
   "name": "python",
   "nbconvert_exporter": "python",
   "pygments_lexer": "ipython3",
   "version": "3.11.5"
  }
 },
 "nbformat": 4,
 "nbformat_minor": 4
}
