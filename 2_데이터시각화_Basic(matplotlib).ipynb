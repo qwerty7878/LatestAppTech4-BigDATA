{
  "nbformat": 4,
  "nbformat_minor": 0,
  "metadata": {
    "colab": {
      "private_outputs": true,
      "provenance": []
    },
    "kernelspec": {
      "name": "python3",
      "display_name": "Python 3"
    },
    "language_info": {
      "name": "python"
    }
  },
  "cells": [
    {
      "cell_type": "code",
      "source": [
        "!sudo apt-get install -y fonts-nanum\n",
        "!sudo fc-cache -fv\n",
        "!rm ~/.cache/matplotlib -rf"
      ],
      "metadata": {
        "id": "oUqYDJ7rQ2td"
      },
      "execution_count": null,
      "outputs": []
    },
    {
      "cell_type": "code",
      "source": [
        "import matplotlib.pyplot as plt\n",
        "\n",
        "plt.rc('font', family='NanumBarunGothic')"
      ],
      "metadata": {
        "id": "Y7i4V43gQ9FF"
      },
      "execution_count": null,
      "outputs": []
    },
    {
      "cell_type": "code",
      "execution_count": null,
      "metadata": {
        "id": "1_sr3GaRjwPX"
      },
      "outputs": [],
      "source": [
        "# matplotlib 라이브러리 불러오기\n",
        "\n",
        "import matplotlib.pyplot as plt"
      ]
    },
    {
      "cell_type": "code",
      "source": [
        "# 간단한 선그래프 그리기\n",
        "\n",
        "plt.title('선그래프')\n",
        "plt.plot([2,4,6,3,8]) #plt 선그래프 함수\n",
        "plt.show() #show()함수를 적어주면 속성관련메시지 생력하고 그래프만 출력해라\n"
      ],
      "metadata": {
        "id": "JU__lvMSkc1o"
      },
      "execution_count": null,
      "outputs": []
    },
    {
      "cell_type": "code",
      "source": [],
      "metadata": {
        "id": "1CLL6461rVyx"
      },
      "execution_count": null,
      "outputs": []
    },
    {
      "cell_type": "code",
      "source": [
        "#한글 폰트 설치\n",
        "\n",
        "!sudo apt-get install -y fonts-nanum\n",
        "!sudo fc-cache -fv\n",
        "!rm ~/.cache/matplotlib -rf\n",
        "\n",
        "# 세션 다시 시작을 클릭해야 함!!!"
      ],
      "metadata": {
        "id": "sb1cMKCJlZWL"
      },
      "execution_count": null,
      "outputs": []
    },
    {
      "cell_type": "code",
      "source": [
        "# matplotlib 라이브러리 불러오기\n",
        "\n",
        "import matplotlib.pyplot as plt"
      ],
      "metadata": {
        "id": "Ps0X3vEvl29L"
      },
      "execution_count": null,
      "outputs": []
    },
    {
      "cell_type": "code",
      "source": [
        "# 나눔폰트를 지정함\n",
        "plt.rc('font', family='NanumBarunGothic')\n"
      ],
      "metadata": {
        "id": "zkpGg0BimBvK"
      },
      "execution_count": null,
      "outputs": []
    },
    {
      "cell_type": "code",
      "source": [
        "# X축 데이터\n",
        "x = [1,2,3,4,5]\n",
        "\n",
        "# y축 데이터\n",
        "y = [2,4,6,8,10]\n",
        "\n",
        "# 선그래프 생성\n",
        "plt.plot(x, y)\n",
        "\n",
        "# 그래프에 제목 추가\n",
        "plt.title('Simple Line Graph')\n",
        "\n",
        "# x축과 y축에도 제목 추가\n",
        "plt.xlabel('X-axis')\n",
        "plt.ylabel('Y-axis', rotation = 90)\n",
        "\n",
        "#그래프 표시\n",
        "plt.show()"
      ],
      "metadata": {
        "id": "Fkc7fkYrmSvi"
      },
      "execution_count": null,
      "outputs": []
    },
    {
      "cell_type": "code",
      "source": [
        "plt.title('사용자 현황', size = 20)\n",
        "plt.plot([1,2,3,4],[2,4,6,2], c = 'r',\n",
        "         lw = 4, ls = '--', marker = 'o',\n",
        "         ms = 8, mec = 'g', mew = 3) #color는 c라고 축약가능\n",
        "\n",
        "#lw(선굵기), ls(선 스타일), marker(마커종류), ms(마커 크기)\n",
        "#mec(마커선 색깔), mew(마커선 굵기)\n",
        "\n",
        "plt.xticks([1,2,3,4], ['1주', '2주', '3주', '4주'])\n",
        "\n",
        "plt.show()\n"
      ],
      "metadata": {
        "id": "i9JibpegnhHy"
      },
      "execution_count": null,
      "outputs": []
    },
    {
      "cell_type": "code",
      "source": [
        "# grid 격자, legend: 범례\n",
        "# 캔버스 크기 조절\n",
        "plt.figure(figsize=(5,6))\n",
        "\n",
        "plt.title('매출 비교 그래프', size = 20)\n",
        "plt.plot([2,7,5,2], c = 'r', label = '이디야')\n",
        "plt.plot([2,6,17,10], c = 'g', label = '스타벅스')\n",
        "\n",
        "#격자 생성\n",
        "plt.grid(True)\n",
        "\n",
        "#범례 생성\n",
        "plt.legend()\n",
        "plt.show()"
      ],
      "metadata": {
        "id": "SUvfKLgqp4XL"
      },
      "execution_count": null,
      "outputs": []
    },
    {
      "cell_type": "code",
      "source": [
        "# 차트 하나에 여러개의 그래프 생성\n",
        "import numpy as np\n",
        "\n",
        "plt.plot(np.random.randn(10), 'k', label = 'one') #검은색 실선\n",
        "plt.plot(np.random.randn(10)*3, 'r--', label = 'two')#빨간색 파선\n",
        "plt.plot(np.random.randn(10)*10, 'g.', label = 'three')#선 없이 초록샘 점 마커 표시\n",
        "\n",
        "plt.legend()\n",
        "plt.show()"
      ],
      "metadata": {
        "id": "xzOsqiPJrNq9"
      },
      "execution_count": null,
      "outputs": []
    },
    {
      "cell_type": "code",
      "source": [
        "# 다중 그래프 : 축이 여러개 존재\n",
        "\n",
        "plt.subplot(2,2,1)  #2행 2열 중 첫번째 그래프\n",
        "plt.plot(np.random.randn(10), 'b--')  #파란색 파선\n",
        "\n",
        "plt.subplot(2,2,2)  #2행 2열 중 두번째 그래프\n",
        "plt.plot(np.random.randn(100), 'r', alpha = 0.7) #투명도0.7\n",
        "\n",
        "plt.subplot(2,2,3)  #2행 2열 중 세번째 그래프\n",
        "plt.plot(np.random.randn(10), 'y')\n",
        "\n",
        "plt.subplot(2,2,4)  #2행 2열 중 네번째 그래프\n",
        "plt.plot(np.random.randn(10), 'g')\n",
        "\n",
        "plt.show()"
      ],
      "metadata": {
        "id": "C5CwKEWms4_7"
      },
      "execution_count": null,
      "outputs": []
    },
    {
      "cell_type": "code",
      "source": [
        "# 산점도\n",
        "# plt.scatter(x값, y값)\n",
        "\n",
        "year = [2014, 2017, 2020, 2023]\n",
        "price = [25000, 31000, 53000, 63000]\n",
        "\n",
        "plt.scatter(year, price, c= 'g', s = 50, marker='^' )\n",
        "plt.show()"
      ],
      "metadata": {
        "id": "wm8185nbq3mz"
      },
      "execution_count": null,
      "outputs": []
    },
    {
      "cell_type": "code",
      "source": [
        "#히스토그램\n",
        "# plt.hist(값 리스트, bins= 구간의 수)\n",
        "numbers = [5, 4, 4, 1, 6, 3, 3, 1, 4, 2]\n",
        "\n",
        "plt.hist(numbers, bins = 6, edgecolor = 'k' )\n",
        "plt.show()"
      ],
      "metadata": {
        "id": "euNbu_KIxy_9"
      },
      "execution_count": null,
      "outputs": []
    },
    {
      "cell_type": "code",
      "source": [
        "import numpy as np\n",
        "\n",
        "np.random.seed(0)\n",
        "data = np.random.normal(loc = 0, scale = 1, size = 1000)\n",
        "\n",
        "plt.hist(data, bins=30, edgecolor = 'k')\n",
        "\n",
        "plt.title('histogram')\n",
        "\n",
        "plt.xlabel('values')\n",
        "plt.ylabel('Frequency')\n",
        "\n",
        "plt.show()\n",
        "\n"
      ],
      "metadata": {
        "id": "4zjUrBs8yoxE"
      },
      "execution_count": null,
      "outputs": []
    },
    {
      "cell_type": "code",
      "source": [
        "# 상자 도표(box plot)\n",
        "\n",
        "numbers = [0, 2.4, 1.4, 1.8, 2.2, 1.85, 1.99, 3.7, 9, 5.7]\n",
        "\n",
        "plt.boxplot(numbers)\n",
        "plt.show()"
      ],
      "metadata": {
        "id": "rlz_fB2dzudE"
      },
      "execution_count": null,
      "outputs": []
    },
    {
      "cell_type": "code",
      "source": [
        "# 과목별 성적 막대 그래프\n",
        "#plt.bar(x값, y값)\n",
        "\n",
        "subject = ['국어', '수학', '영어']\n",
        "grade = [80, 95, 79]\n",
        "\n",
        "plt.title('Report')\n",
        "plt.xlabel('subject')\n",
        "plt.ylabel('grade')\n",
        "\n",
        "plt.bar(subject, grade)\n",
        "\n",
        "plt.ylim(0, 100) # y축 범위 고정\n",
        "plt.text(0, 90, 'Good!')\n",
        "\n",
        "plt.show()"
      ],
      "metadata": {
        "id": "qCgN8bJo0PXs"
      },
      "execution_count": null,
      "outputs": []
    },
    {
      "cell_type": "code",
      "source": [
        "# 원도표 생성\n",
        "\n",
        "size = [30, 20, 15, 10, 25]\n",
        "labels = ['Label1', 'Label2', 'Label3', 'Label4', \"Label5\"]\n",
        "colors = ['#ff9999', '#66b3ff', '#99ff99', '#ffcc99', '#c2c2f0']\n",
        "\n",
        "plt.pie(size, labels = labels, colors = colors,\n",
        "        autopct = '%.1f%%', startangle= 90)\n",
        "\n",
        "plt.axis('equal') #원도표를 동그랗게 만들겠다.\n",
        "plt.show()"
      ],
      "metadata": {
        "id": "s51uPtfv1RLM"
      },
      "execution_count": null,
      "outputs": []
    },
    {
      "cell_type": "code",
      "source": [],
      "metadata": {
        "id": "E17sBM102jZD"
      },
      "execution_count": null,
      "outputs": []
    }
  ]
}